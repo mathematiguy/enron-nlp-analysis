{
 "cells": [
  {
   "cell_type": "markdown",
   "id": "b8cb98fc-6ec5-4c21-b1d1-9ab77726c945",
   "metadata": {},
   "source": [
    "# Exploring the Enron Dataset\n",
    "\n",
    "We just downloaded the enron email dataset from https://www.cs.cmu.edu/~enron/. In this notebook we'll explore the data and see what we have to work with."
   ]
  },
  {
   "cell_type": "code",
   "execution_count": 1,
   "id": "440a2f1a-38b8-45f2-9996-a0a511cd2b3d",
   "metadata": {},
   "outputs": [],
   "source": [
    "import numpy as np\n",
    "import pandas as pd\n",
    "import matplotlib.pyplot as plt"
   ]
  },
  {
   "cell_type": "code",
   "execution_count": 4,
   "id": "ff5695db-8e79-423d-814c-73a67338a643",
   "metadata": {},
   "outputs": [
    {
     "name": "stdout",
     "output_type": "stream",
     "text": [
      "allen-p      fischer-m\t     kitchen-l\t      phanis-s\t     smith-m\n",
      "arnold-j     forney-j\t     kuykendall-t     pimenov-v      solberg-g\n",
      "arora-h      fossum-d\t     lavorato-j       platter-p      south-s\n",
      "badeer-r     gang-l\t     lay-k\t      presto-k\t     staab-t\n",
      "bailey-s     gay-r\t     lenhart-m\t      quenet-j\t     stclair-c\n",
      "bass-e\t     geaccone-t      lewis-a\t      quigley-d      steffes-j\n",
      "baughman-d   germany-c\t     linder-e\t      rapp-b\t     stepenovitch-j\n",
      "beck-s\t     gilbertsmith-d  lokay-m\t      reitmeyer-j    stokley-c\n",
      "benson-r     giron-d\t     lokey-t\t      richey-c\t     storey-g\n",
      "blair-l      griffith-j      love-p\t      ring-a\t     sturm-f\n",
      "brawner-s    grigsby-m\t     lucci-p\t      ring-r\t     swerzbin-m\n",
      "buy-r\t     guzman-m\t     maggi-m\t      rodrique-r     symes-k\n",
      "campbell-l   haedicke-m      mann-k\t      rogers-b\t     taylor-m\n",
      "carson-m     hain-m\t     martin-t\t      ruscitti-k     tholt-j\n",
      "cash-m\t     harris-s\t     may-l\t      sager-e\t     thomas-p\n",
      "causholli-m  hayslett-r      mccarty-d\t      saibi-e\t     townsend-j\n",
      "corman-s     heard-m\t     mcconnell-m      salisbury-h    tycholiz-b\n",
      "crandell-s   hendrickson-s   mckay-b\t      sanchez-m      ward-k\n",
      "cuilla-m     hernandez-j     mckay-j\t      sanders-r      watson-k\n",
      "dasovich-j   hodge-j\t     mclaughlin-e     scholtes-d     weldon-c\n",
      "davis-d      holst-k\t     merriss-s\t      schoolcraft-d  whalley-g\n",
      "dean-c\t     horton-s\t     meyers-a\t      schwieger-j    whalley-l\n",
      "delainey-d   hyatt-k\t     mims-thurston-p  scott-s\t     white-s\n",
      "derrick-j    hyvl-d\t     motley-m\t      semperger-c    whitt-m\n",
      "dickson-s    jones-t\t     neal-s\t      shackleton-s   williams-j\n",
      "donoho-l     kaminski-v      nemec-g\t      shankman-j     williams-w3\n",
      "donohoe-t    kean-s\t     panus-s\t      shapiro-r      wolfe-j\n",
      "dorland-c    keavey-p\t     parks-j\t      shively-h      ybarbo-p\n",
      "ermis-f      keiser-k\t     pereira-s\t      skilling-j     zipper-a\n",
      "farmer-d     king-j\t     perlingiere-d    slinger-r      zufferli-j\n"
     ]
    }
   ],
   "source": [
    "# Show the authors of the emails\n",
    "! ls ../data/maildir"
   ]
  },
  {
   "cell_type": "markdown",
   "id": "c6a68e33-c342-43d7-83ba-17d9be87236f",
   "metadata": {},
   "source": [
    "It's weird to me to have a dataset like this with people's actual names. When writing this up we should probably consider how we want to deal with names. Maybe it makes sense to look at what other people have done."
   ]
  },
  {
   "cell_type": "code",
   "execution_count": 10,
   "id": "50f797ca-ac32-472a-b655-9e891928dbd6",
   "metadata": {},
   "outputs": [
    {
     "name": "stdout",
     "output_type": "stream",
     "text": [
      "_sent_mail     contacts       discussion_threads  notes_inbox  sent_items\n",
      "all_documents  deleted_items  inbox\t\t  sent\t       straw\n"
     ]
    }
   ],
   "source": [
    "# Check the subfolders under a single author\n",
    "! ls ../data/maildir/allen-p/"
   ]
  },
  {
   "cell_type": "code",
   "execution_count": 23,
   "id": "444a2c23-1b88-48e5-9562-1ffa5b9958cf",
   "metadata": {},
   "outputs": [
    {
     "name": "stdout",
     "output_type": "stream",
     "text": [
      "all_documents  calendar  deleted_items\tdiscussion_threads  inbox  sent_items\n"
     ]
    }
   ],
   "source": [
    "# Check the subfolders under a single author\n",
    "! ls ../data/maildir/zufferli-j/"
   ]
  },
  {
   "cell_type": "markdown",
   "id": "d8b4cd91-fdb2-47f3-ba11-0aa259d03418",
   "metadata": {},
   "source": [
    "It looks like for each author, their entire folder structure is saved under their name. Different people have very different folder structures, based on how they organised their work."
   ]
  },
  {
   "cell_type": "code",
   "execution_count": 22,
   "id": "eabe5d72-c456-43b0-8a35-dbfef0a88286",
   "metadata": {},
   "outputs": [
    {
     "name": "stdout",
     "output_type": "stream",
     "text": [
      "    149 \n",
      "    137 inbox\n",
      "    136 sent_items\n",
      "    135 deleted_items\n",
      "    110 all_documents\n",
      "     93 discussion_threads\n",
      "     89 sent\n",
      "     82 notes_inbox\n",
      "     78 _sent_mail\n",
      "     71 calendar\n",
      "     46 contacts\n",
      "     39 personal\n",
      "     35 tasks\n",
      "     34 to_do\n",
      "     11 eol\n",
      "     10 prc\n",
      "      9 private_folders\n",
      "      7 presentations\n",
      "      7 ees\n",
      "      7 canada\n"
     ]
    }
   ],
   "source": [
    "# Count the subfolder names under every author\n",
    "! ls ../data/maildir/* | grep -v : | sort | uniq -c | sort -nr | head -n 20"
   ]
  },
  {
   "cell_type": "code",
   "execution_count": 29,
   "id": "c3b4ebd0-61fa-46f9-afae-cbcb05656731",
   "metadata": {},
   "outputs": [
    {
     "name": "stdout",
     "output_type": "stream",
     "text": [
      "Message-ID: <6521706.1075855374316.JavaMail.evans@thyme>\n",
      "Date: Mon, 14 May 2001 17:18:42 -0700 (PDT)\n",
      "From: outlook-migration-team@enron.com\n",
      "Subject: Greg Thorse\n",
      "Mime-Version: 1.0\n",
      "Content-Type: text/plain; charset=us-ascii\n",
      "Content-Transfer-Encoding: 7bit\n",
      "X-From: Outlook-Migration-Team </O=ENRON/OU=NA/CN=RECIPIENTS/CN=EXCHMIGTEAM>\n",
      "X-To: \n",
      "X-cc: \n",
      "X-bcc: \n",
      "X-Folder: \\Phillip_Allen_Jan2002_1\\Allen, Phillip K.\\Contacts\n",
      "X-Origin: Allen-P\n",
      "X-FileName: pallen (Non-Privileged).pst\n",
      "\n",
      "exit mccollough off 410"
     ]
    }
   ],
   "source": [
    "! cat ../data/maildir/allen-p/contacts/2."
   ]
  },
  {
   "cell_type": "code",
   "execution_count": null,
   "id": "c6b16801-900a-49e7-ab13-a05bdc371664",
   "metadata": {},
   "outputs": [],
   "source": []
  }
 ],
 "metadata": {
  "kernelspec": {
   "display_name": "Python 3 (ipykernel)",
   "language": "python",
   "name": "python3"
  },
  "language_info": {
   "codemirror_mode": {
    "name": "ipython",
    "version": 3
   },
   "file_extension": ".py",
   "mimetype": "text/x-python",
   "name": "python",
   "nbconvert_exporter": "python",
   "pygments_lexer": "ipython3",
   "version": "3.11.6"
  }
 },
 "nbformat": 4,
 "nbformat_minor": 5
}
