{
 "cells": [
  {
   "cell_type": "markdown",
   "id": "8fa84324-29db-44ac-863a-abfc27413075",
   "metadata": {},
   "source": [
    "# Preprocessing the Enron dataset\n",
    "\n",
    "In this notebook we'll be preprocessing the Enron dataset. The goal is to augment the data with the information we'll need to find the emails that we want to study (and ignore the ones we don't)."
   ]
  },
  {
   "cell_type": "code",
   "execution_count": 1,
   "id": "136ad801-0f52-4526-9266-737b92cc0be6",
   "metadata": {},
   "outputs": [],
   "source": [
    "import os\n",
    "\n",
    "import numpy as np\n",
    "import pandas as pd\n",
    "import matplotlib.pyplot as plt"
   ]
  },
  {
   "cell_type": "code",
   "execution_count": 2,
   "id": "2d2ea851-d26f-4292-8ca0-68841a98c7b2",
   "metadata": {},
   "outputs": [
    {
     "name": "stdout",
     "output_type": "stream",
     "text": [
      "allen-p      fischer-m\t     kitchen-l\t      phanis-s\t     smith-m\n",
      "arnold-j     forney-j\t     kuykendall-t     pimenov-v      solberg-g\n",
      "arora-h      fossum-d\t     lavorato-j       platter-p      south-s\n",
      "badeer-r     gang-l\t     lay-k\t      presto-k\t     staab-t\n",
      "bailey-s     gay-r\t     lenhart-m\t      quenet-j\t     stclair-c\n",
      "bass-e\t     geaccone-t      lewis-a\t      quigley-d      steffes-j\n",
      "baughman-d   germany-c\t     linder-e\t      rapp-b\t     stepenovitch-j\n",
      "beck-s\t     gilbertsmith-d  lokay-m\t      reitmeyer-j    stokley-c\n",
      "benson-r     giron-d\t     lokey-t\t      richey-c\t     storey-g\n",
      "blair-l      griffith-j      love-p\t      ring-a\t     sturm-f\n",
      "brawner-s    grigsby-m\t     lucci-p\t      ring-r\t     swerzbin-m\n",
      "buy-r\t     guzman-m\t     maggi-m\t      rodrique-r     symes-k\n",
      "campbell-l   haedicke-m      mann-k\t      rogers-b\t     taylor-m\n",
      "carson-m     hain-m\t     martin-t\t      ruscitti-k     tholt-j\n",
      "cash-m\t     harris-s\t     may-l\t      sager-e\t     thomas-p\n",
      "causholli-m  hayslett-r      mccarty-d\t      saibi-e\t     townsend-j\n",
      "corman-s     heard-m\t     mcconnell-m      salisbury-h    tycholiz-b\n",
      "crandell-s   hendrickson-s   mckay-b\t      sanchez-m      ward-k\n",
      "cuilla-m     hernandez-j     mckay-j\t      sanders-r      watson-k\n",
      "dasovich-j   hodge-j\t     mclaughlin-e     scholtes-d     weldon-c\n",
      "davis-d      holst-k\t     merriss-s\t      schoolcraft-d  whalley-g\n",
      "dean-c\t     horton-s\t     meyers-a\t      schwieger-j    whalley-l\n",
      "delainey-d   hyatt-k\t     mims-thurston-p  scott-s\t     white-s\n",
      "derrick-j    hyvl-d\t     motley-m\t      semperger-c    whitt-m\n",
      "dickson-s    jones-t\t     neal-s\t      shackleton-s   williams-j\n",
      "donohoe-t    kaminski-v      nemec-g\t      shankman-j     williams-w3\n",
      "donoho-l     kean-s\t     panus-s\t      shapiro-r      wolfe-j\n",
      "dorland-c    keavey-p\t     parks-j\t      shively-h      ybarbo-p\n",
      "ermis-f      keiser-k\t     pereira-s\t      skilling-j     zipper-a\n",
      "farmer-d     king-j\t     perlingiere-d    slinger-r      zufferli-j\n"
     ]
    }
   ],
   "source": [
    "! ls ../data/maildir"
   ]
  },
  {
   "cell_type": "markdown",
   "id": "25f9860d-6177-4834-8af5-8b111eea63e1",
   "metadata": {},
   "source": [
    "We wanna convert the dataset to parquet format and then save it - then we can replace the dataset in the dvc cache with the parquet version which should be a lot easier to cache track and so forth."
   ]
  },
  {
   "cell_type": "code",
   "execution_count": 3,
   "id": "36c5e4c4-a9ff-46f1-8ab5-959f96ac4b22",
   "metadata": {},
   "outputs": [
    {
     "name": "stdout",
     "output_type": "stream",
     "text": [
      "../data/maildir\n",
      "├── allen-p\n",
      "│   ├── all_documents\n",
      "│   │   ├── 1. -> /network/scratch/c/caleb.moses/group-project/dvc/files/md5/08/f89c6e8b9dfb55ce5d96e49e8be465\n",
      "│   │   ├── 10. -> /network/scratch/c/caleb.moses/group-project/dvc/files/md5/7e/8270c667aeecf249ad15fac5e4aacc\n",
      "│   │   ├── 100. -> /network/scratch/c/caleb.moses/group-project/dvc/files/md5/01/46e8d854f36b331d7c844029d44800\n",
      "│   │   ├── 101. -> /network/scratch/c/caleb.moses/group-project/dvc/files/md5/f9/2b88674aaea14988e17f82e7e2f87d\n",
      "│   │   ├── 102. -> /network/scratch/c/caleb.moses/group-project/dvc/files/md5/ea/92953635b60e6b874f991d508c5f4b\n",
      "│   │   ├── 103. -> /network/scratch/c/caleb.moses/group-project/dvc/files/md5/5f/72d38fe7f7d2d4d9a6b0e1b59e7c06\n",
      "│   │   ├── 104. -> /network/scratch/c/caleb.moses/group-project/dvc/files/md5/a3/165664647f9fd9eca8a8398eb0ab64\n"
     ]
    }
   ],
   "source": [
    "! tree ../data/maildir | head "
   ]
  },
  {
   "cell_type": "code",
   "execution_count": 16,
   "id": "5bd602b7-8ecc-447f-b79c-2b050852895c",
   "metadata": {},
   "outputs": [
    {
     "ename": "KeyboardInterrupt",
     "evalue": "",
     "output_type": "error",
     "traceback": [
      "\u001b[0;31m---------------------------------------------------------------------------\u001b[0m",
      "\u001b[0;31mKeyboardInterrupt\u001b[0m                         Traceback (most recent call last)",
      "File \u001b[0;32m<timed exec>:2\u001b[0m\n",
      "File \u001b[0;32m/cvmfs/ai.mila.quebec/apps/arch/distro/python/3.10/lib/python3.10/os.py:419\u001b[0m, in \u001b[0;36m_walk\u001b[0;34m(top, topdown, onerror, followlinks)\u001b[0m\n\u001b[1;32m    414\u001b[0m         \u001b[38;5;66;03m# Issue #23605: os.path.islink() is used instead of caching\u001b[39;00m\n\u001b[1;32m    415\u001b[0m         \u001b[38;5;66;03m# entry.is_symlink() result during the loop on os.scandir() because\u001b[39;00m\n\u001b[1;32m    416\u001b[0m         \u001b[38;5;66;03m# the caller can replace the directory entry during the \"yield\"\u001b[39;00m\n\u001b[1;32m    417\u001b[0m         \u001b[38;5;66;03m# above.\u001b[39;00m\n\u001b[1;32m    418\u001b[0m         \u001b[38;5;28;01mif\u001b[39;00m followlinks \u001b[38;5;129;01mor\u001b[39;00m \u001b[38;5;129;01mnot\u001b[39;00m islink(new_path):\n\u001b[0;32m--> 419\u001b[0m             \u001b[38;5;28;01myield from\u001b[39;00m _walk(new_path, topdown, onerror, followlinks)\n\u001b[1;32m    420\u001b[0m \u001b[38;5;28;01melse\u001b[39;00m:\n\u001b[1;32m    421\u001b[0m     \u001b[38;5;66;03m# Recurse into sub-directories\u001b[39;00m\n\u001b[1;32m    422\u001b[0m     \u001b[38;5;28;01mfor\u001b[39;00m new_path \u001b[38;5;129;01min\u001b[39;00m walk_dirs:\n",
      "File \u001b[0;32m/cvmfs/ai.mila.quebec/apps/arch/distro/python/3.10/lib/python3.10/os.py:419\u001b[0m, in \u001b[0;36m_walk\u001b[0;34m(top, topdown, onerror, followlinks)\u001b[0m\n\u001b[1;32m    414\u001b[0m         \u001b[38;5;66;03m# Issue #23605: os.path.islink() is used instead of caching\u001b[39;00m\n\u001b[1;32m    415\u001b[0m         \u001b[38;5;66;03m# entry.is_symlink() result during the loop on os.scandir() because\u001b[39;00m\n\u001b[1;32m    416\u001b[0m         \u001b[38;5;66;03m# the caller can replace the directory entry during the \"yield\"\u001b[39;00m\n\u001b[1;32m    417\u001b[0m         \u001b[38;5;66;03m# above.\u001b[39;00m\n\u001b[1;32m    418\u001b[0m         \u001b[38;5;28;01mif\u001b[39;00m followlinks \u001b[38;5;129;01mor\u001b[39;00m \u001b[38;5;129;01mnot\u001b[39;00m islink(new_path):\n\u001b[0;32m--> 419\u001b[0m             \u001b[38;5;28;01myield from\u001b[39;00m _walk(new_path, topdown, onerror, followlinks)\n\u001b[1;32m    420\u001b[0m \u001b[38;5;28;01melse\u001b[39;00m:\n\u001b[1;32m    421\u001b[0m     \u001b[38;5;66;03m# Recurse into sub-directories\u001b[39;00m\n\u001b[1;32m    422\u001b[0m     \u001b[38;5;28;01mfor\u001b[39;00m new_path \u001b[38;5;129;01min\u001b[39;00m walk_dirs:\n",
      "File \u001b[0;32m/cvmfs/ai.mila.quebec/apps/arch/distro/python/3.10/lib/python3.10/os.py:377\u001b[0m, in \u001b[0;36m_walk\u001b[0;34m(top, topdown, onerror, followlinks)\u001b[0m\n\u001b[1;32m    374\u001b[0m     \u001b[38;5;28;01mreturn\u001b[39;00m\n\u001b[1;32m    376\u001b[0m \u001b[38;5;28;01mtry\u001b[39;00m:\n\u001b[0;32m--> 377\u001b[0m     is_dir \u001b[38;5;241m=\u001b[39m \u001b[43mentry\u001b[49m\u001b[38;5;241;43m.\u001b[39;49m\u001b[43mis_dir\u001b[49m\u001b[43m(\u001b[49m\u001b[43m)\u001b[49m\n\u001b[1;32m    378\u001b[0m \u001b[38;5;28;01mexcept\u001b[39;00m \u001b[38;5;167;01mOSError\u001b[39;00m:\n\u001b[1;32m    379\u001b[0m     \u001b[38;5;66;03m# If is_dir() raises an OSError, consider that the entry is not\u001b[39;00m\n\u001b[1;32m    380\u001b[0m     \u001b[38;5;66;03m# a directory, same behaviour than os.path.isdir().\u001b[39;00m\n\u001b[1;32m    381\u001b[0m     is_dir \u001b[38;5;241m=\u001b[39m \u001b[38;5;28;01mFalse\u001b[39;00m\n",
      "\u001b[0;31mKeyboardInterrupt\u001b[0m: "
     ]
    }
   ],
   "source": [
    "%%time\n",
    "paths = []\n",
    "for root, dirs, files in os.walk('../data/maildir', followlinks=True):\n",
    "    for f in files:\n",
    "        paths.append(os.path.join(root, f))"
   ]
  },
  {
   "cell_type": "code",
   "execution_count": 17,
   "id": "cb69aa73-b7d8-4a96-9006-23d0830c9fa5",
   "metadata": {},
   "outputs": [
    {
     "name": "stdout",
     "output_type": "stream",
     "text": [
      "Message-ID: <27083999.1075840298877.JavaMail.evans@thyme>\n",
      "Date: Mon, 24 Sep 2001 08:17:17 -0700 (PDT)\n",
      "From: tammie.schoppe@enron.com\n",
      "To: d..hogan@enron.com, kimberly.bates@enron.com, jessica.presas@enron.com, \n",
      "\talexandra.villarreal@enron.com, michael.salinas@enron.com, \n",
      "\tbecky.young@enron.com, ina.rangel@enron.com\n",
      "Subject: Dinner next Wednesday(10/3) with Louise and John\n",
      "Mime-Version: 1.0\n",
      "Content-Type: text/plain; charset=us-ascii\n",
      "Content-Transfer-Encoding: 7bit\n"
     ]
    }
   ],
   "source": [
    "! head ../data/maildir/shively-h/1."
   ]
  },
  {
   "cell_type": "code",
   "execution_count": 18,
   "id": "b497c652-9a00-4f92-b99f-8e1960b71f51",
   "metadata": {},
   "outputs": [
    {
     "data": {
      "text/html": [
       "<div>\n",
       "<style scoped>\n",
       "    .dataframe tbody tr th:only-of-type {\n",
       "        vertical-align: middle;\n",
       "    }\n",
       "\n",
       "    .dataframe tbody tr th {\n",
       "        vertical-align: top;\n",
       "    }\n",
       "\n",
       "    .dataframe thead th {\n",
       "        text-align: right;\n",
       "    }\n",
       "</style>\n",
       "<table border=\"1\" class=\"dataframe\">\n",
       "  <thead>\n",
       "    <tr style=\"text-align: right;\">\n",
       "      <th></th>\n",
       "      <th>path</th>\n",
       "    </tr>\n",
       "  </thead>\n",
       "  <tbody>\n",
       "    <tr>\n",
       "      <th>0</th>\n",
       "      <td>../data/maildir/benson-r/inbox/115.</td>\n",
       "    </tr>\n",
       "    <tr>\n",
       "      <th>1</th>\n",
       "      <td>../data/maildir/benson-r/inbox/128.</td>\n",
       "    </tr>\n",
       "    <tr>\n",
       "      <th>2</th>\n",
       "      <td>../data/maildir/benson-r/inbox/254.</td>\n",
       "    </tr>\n",
       "    <tr>\n",
       "      <th>3</th>\n",
       "      <td>../data/maildir/benson-r/inbox/91.</td>\n",
       "    </tr>\n",
       "    <tr>\n",
       "      <th>4</th>\n",
       "      <td>../data/maildir/benson-r/inbox/290.</td>\n",
       "    </tr>\n",
       "    <tr>\n",
       "      <th>...</th>\n",
       "      <td>...</td>\n",
       "    </tr>\n",
       "    <tr>\n",
       "      <th>10480</th>\n",
       "      <td>../data/maildir/ermis-f/inbox/37.</td>\n",
       "    </tr>\n",
       "    <tr>\n",
       "      <th>10481</th>\n",
       "      <td>../data/maildir/ermis-f/inbox/43.</td>\n",
       "    </tr>\n",
       "    <tr>\n",
       "      <th>10482</th>\n",
       "      <td>../data/maildir/ermis-f/inbox/584.</td>\n",
       "    </tr>\n",
       "    <tr>\n",
       "      <th>10483</th>\n",
       "      <td>../data/maildir/ermis-f/inbox/151.</td>\n",
       "    </tr>\n",
       "    <tr>\n",
       "      <th>10484</th>\n",
       "      <td>../data/maildir/ermis-f/inbox/23.</td>\n",
       "    </tr>\n",
       "  </tbody>\n",
       "</table>\n",
       "<p>10485 rows × 1 columns</p>\n",
       "</div>"
      ],
      "text/plain": [
       "                                      path\n",
       "0      ../data/maildir/benson-r/inbox/115.\n",
       "1      ../data/maildir/benson-r/inbox/128.\n",
       "2      ../data/maildir/benson-r/inbox/254.\n",
       "3       ../data/maildir/benson-r/inbox/91.\n",
       "4      ../data/maildir/benson-r/inbox/290.\n",
       "...                                    ...\n",
       "10480    ../data/maildir/ermis-f/inbox/37.\n",
       "10481    ../data/maildir/ermis-f/inbox/43.\n",
       "10482   ../data/maildir/ermis-f/inbox/584.\n",
       "10483   ../data/maildir/ermis-f/inbox/151.\n",
       "10484    ../data/maildir/ermis-f/inbox/23.\n",
       "\n",
       "[10485 rows x 1 columns]"
      ]
     },
     "execution_count": 18,
     "metadata": {},
     "output_type": "execute_result"
    }
   ],
   "source": [
    "enron_data = pd.DataFrame({'path': paths})\n",
    "enron_data"
   ]
  },
  {
   "cell_type": "code",
   "execution_count": 19,
   "id": "bd68004c-a3c2-4c34-ad70-3c0ce27edd82",
   "metadata": {},
   "outputs": [],
   "source": [
    "from concurrent.futures import ThreadPoolExecutor, as_completed\n",
    "from tqdm.notebook import tqdm\n",
    "import os\n",
    "import chardet\n",
    "\n",
    "def decode_email(fp):\n",
    "    with open(fp, 'rb') as f:\n",
    "        raw_data = f.read()\n",
    "\n",
    "        # Detect and use the correct encoding\n",
    "        detected_encoding = chardet.detect(raw_data)['encoding']\n",
    "        if detected_encoding is None:\n",
    "            detected_encoding = 'us-ascii'  # Default to utf-8 if encoding is undetected\n",
    "\n",
    "        try:\n",
    "            text = raw_data.decode(detected_encoding)\n",
    "        except UnicodeDecodeError:\n",
    "            text = raw_data.decode('us-ascii', errors='replace')\n",
    "\n",
    "    return text.replace('\\r', '')\n",
    "\n",
    "def read_email(fp):\n",
    "    text = decode_email(fp)\n",
    "    \n",
    "    header, content = text.split('\\n\\n', 1)\n",
    "    \n",
    "    # Define the fields we are interested in\n",
    "    fields = ['Message-ID', 'Date', 'From', 'Subject', 'X-FileName', 'X-Origin', \n",
    "              'X-Folder', 'X-bcc', 'X-cc', 'X-To', 'X-From', 'Content-Transfer-Encoding', \n",
    "              'Content-Type', 'Mime-Version', 'To', 'Cc', 'Bcc', 'Content']\n",
    "\n",
    "    # Initialize an empty dictionary with the fields\n",
    "    email_dict = {field: '' for field in fields}\n",
    "    \n",
    "    # Set the content\n",
    "    email_dict['Content'] = content\n",
    "\n",
    "    # Temporary variable to hold the key for multi-line values\n",
    "    current_key = None\n",
    "    \n",
    "    # Split the header into lines and iterate through each line\n",
    "    lines = header.strip().split('\\n')\n",
    "    for line in lines:\n",
    "        if ':' in line:\n",
    "            key, value = line.split(':', 1)\n",
    "            key = key.strip()\n",
    "\n",
    "            # If the key is one of the fields we're interested in, or if we don't have a current key\n",
    "            if key in email_dict or current_key is None:\n",
    "                email_dict[key] = value.strip()\n",
    "                current_key = key\n",
    "            else:\n",
    "                # Append the line to the value of the previous key\n",
    "                email_dict[current_key] += ' ' + line.strip()\n",
    "        elif current_key:\n",
    "            # This is a continuation of the value from the previous line\n",
    "            email_dict[current_key] += ' ' + line.strip()\n",
    "\n",
    "    return email_dict"
   ]
  },
  {
   "cell_type": "code",
   "execution_count": null,
   "id": "39aad04c-913e-4884-bb36-611b76f4eca2",
   "metadata": {},
   "outputs": [
    {
     "data": {
      "application/vnd.jupyter.widget-view+json": {
       "model_id": "",
       "version_major": 2,
       "version_minor": 0
      },
      "text/plain": [
       "  0%|          | 0/10485 [00:00<?, ?it/s]"
      ]
     },
     "metadata": {},
     "output_type": "display_data"
    }
   ],
   "source": [
    "enron_data['email'] = [read_email(fp) for fp in tqdm(enron_data.path)]"
   ]
  },
  {
   "cell_type": "code",
   "execution_count": null,
   "id": "d5785822-8972-4e7a-8023-5ee6c17368b3",
   "metadata": {},
   "outputs": [],
   "source": [
    "%%time\n",
    "fields = pd.json_normalize(enron_data.email)\n",
    "enron_df = pd.concat([enron_data.loc[:, ['path']], fields], axis=1)"
   ]
  },
  {
   "cell_type": "code",
   "execution_count": null,
   "id": "ccbc977f-06f7-4e58-bd5f-eed4aa7100e6",
   "metadata": {},
   "outputs": [],
   "source": [
    "enron_df.to_parquet('../data/enron_emails.parquet')"
   ]
  }
 ],
 "metadata": {
  "kernelspec": {
   "display_name": "Python 3 (ipykernel)",
   "language": "python",
   "name": "python3"
  },
  "language_info": {
   "codemirror_mode": {
    "name": "ipython",
    "version": 3
   },
   "file_extension": ".py",
   "mimetype": "text/x-python",
   "name": "python",
   "nbconvert_exporter": "python",
   "pygments_lexer": "ipython3",
   "version": "3.10.11"
  }
 },
 "nbformat": 4,
 "nbformat_minor": 5
}
