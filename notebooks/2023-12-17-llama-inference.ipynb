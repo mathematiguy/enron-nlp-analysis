{
 "cells": [
  {
   "cell_type": "code",
   "execution_count": 1,
   "id": "aa59e407-b9c8-4921-a7ed-8a0219989681",
   "metadata": {},
   "outputs": [],
   "source": [
    "import os\n",
    "import yaml\n",
    "import torch\n",
    "from torch.nn import DataParallel\n",
    "from llama import Llama, Dialog\n",
    "\n",
    "# Assuming you're running JupyterLab on a machine with 2 GPUs\n",
    "os.environ['MASTER_ADDR'] = 'localhost'\n",
    "os.environ['MASTER_PORT'] = '12356'  # Choose any free port number\n",
    "os.environ['RANK'] = \"0\"\n",
    "os.environ['WORLD_SIZE'] = \"2\"\n",
    "os.environ[\"CUDA_VISIBLE_DEVICES\"] = \"0,1\"\n",
    "\n",
    "import yaml\n",
    "from llama import Llama, Dialog\n",
    "\n",
    "# Define model and tokenizer paths\n",
    "ckpt_dir = '/network/weights/llama.var/llama2/llama-2-13b-chat/'\n",
    "tokenizer_path = '/network/weights/llama.var/llama2/tokenizer.model'\n",
    "\n",
    "# Model parameters\n",
    "max_seq_len = 512\n",
    "max_batch_size = 8\n",
    "temperature = 0.6\n",
    "top_p = 0.9\n",
    "max_gen_len = None  # Set to your preference"
   ]
  },
  {
   "cell_type": "code",
   "execution_count": 3,
   "id": "5bd6195c-e001-49c5-b391-91f46e9ab129",
   "metadata": {},
   "outputs": [
    {
     "name": "stdout",
     "output_type": "stream",
     "text": [
      "localhost\n",
      "12356\n",
      "0\n",
      "2\n",
      "0,1\n"
     ]
    }
   ],
   "source": [
    "! echo $MASTER_ADDR\n",
    "! echo $MASTER_PORT\n",
    "! echo $RANK\n",
    "! echo $WORLD_SIZE\n",
    "! echo $CUDA_VISIBLE_DEVICES"
   ]
  },
  {
   "cell_type": "code",
   "execution_count": null,
   "id": "76ae9a2b-9c3b-457e-9c8d-38fb5fc4c0a3",
   "metadata": {},
   "outputs": [],
   "source": [
    "import torch\n",
    "print(torch.cuda.is_available())"
   ]
  },
  {
   "cell_type": "code",
   "execution_count": null,
   "id": "a3cd04f3-e6a8-41d3-8474-69b7c3ce2da8",
   "metadata": {},
   "outputs": [],
   "source": [
    "%%time\n",
    "# Initialize the Llama model\n",
    "generator = Llama.build(\n",
    "    ckpt_dir=ckpt_dir,\n",
    "    tokenizer_path=tokenizer_path,\n",
    "    max_seq_len=max_seq_len,\n",
    "    max_batch_size=max_batch_size,\n",
    ")\n",
    "\n",
    "print(\"Model loaded!\")"
   ]
  },
  {
   "cell_type": "code",
   "execution_count": null,
   "id": "b6f3bb03-3434-4b29-a9fe-0c2cf7c5084e",
   "metadata": {},
   "outputs": [],
   "source": [
    "# Load dialogs (adapt this to your dialog format)\n",
    "dialogs = yaml.load(open('../data/prompts/example.yaml'), Loader=yaml.FullLoader)\n",
    "print(\"Running inference...\")"
   ]
  },
  {
   "cell_type": "code",
   "execution_count": null,
   "id": "06483e6e-4cc3-42c8-bd70-267828d59172",
   "metadata": {},
   "outputs": [],
   "source": [
    "%%time\n",
    "# Generate responses\n",
    "results = generator.chat_completion(\n",
    "    dialogs,\n",
    "    max_gen_len=max_gen_len,\n",
    "    temperature=temperature,\n",
    "    top_p=top_p,\n",
    ")"
   ]
  },
  {
   "cell_type": "code",
   "execution_count": null,
   "id": "85e6081a-59c3-4abf-abb4-d5f2f69f0d55",
   "metadata": {},
   "outputs": [],
   "source": [
    "# Process and print results\n",
    "for dialog, result in zip(dialogs, results):\n",
    "    for msg in dialog:\n",
    "        print(f\"{msg['role'].capitalize()}: {msg['content']}\\n\")\n",
    "    print(\n",
    "        f\"> {result['generation']['role'].capitalize()}: {result['generation']['content']}\"\n",
    "    )\n",
    "    print(\"\\n==================================\\n\")"
   ]
  }
 ],
 "metadata": {
  "kernelspec": {
   "display_name": "Python 3 (venv)",
   "language": "python",
   "name": "venv"
  },
  "language_info": {
   "codemirror_mode": {
    "name": "ipython",
    "version": 3
   },
   "file_extension": ".py",
   "mimetype": "text/x-python",
   "name": "python",
   "nbconvert_exporter": "python",
   "pygments_lexer": "ipython3",
   "version": "3.10.11"
  }
 },
 "nbformat": 4,
 "nbformat_minor": 5
}
