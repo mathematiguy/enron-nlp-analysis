{
 "cells": [
  {
   "cell_type": "code",
   "execution_count": 2,
   "id": "c70bfb93-dd78-427a-b020-458f4e189f05",
   "metadata": {},
   "outputs": [],
   "source": [
    "import pandas as pd"
   ]
  },
  {
   "cell_type": "code",
   "execution_count": 3,
   "id": "36142891-2770-449f-8280-b28085fa7152",
   "metadata": {},
   "outputs": [],
   "source": [
    "parameters = pd.read_csv('parameter_words.csv')"
   ]
  },
  {
   "cell_type": "code",
   "execution_count": 4,
   "id": "79923163-56d4-4961-a280-8d6e26557a0e",
   "metadata": {},
   "outputs": [
    {
     "data": {
      "text/plain": [
       "<Axes: ylabel='Word'>"
      ]
     },
     "execution_count": 4,
     "metadata": {},
     "output_type": "execute_result"
    },
    {
     "data": {
      "image/png": "[encoded data removed]",
      "text/plain": [
       "<Figure size 640x480 with 1 Axes>"
      ]
     },
     "metadata": {},
     "output_type": "display_data"
    }
   ],
   "source": [
    "parameters.sort_values('Parameter').plot(x='Word', y='Parameter', kind='barh')"
   ]
  },
  {
   "cell_type": "code",
   "execution_count": 9,
   "id": "ad5d0bd0-ad96-4c70-a64d-14e1865a7de5",
   "metadata": {},
   "outputs": [
    {
     "name": "stdout",
     "output_type": "stream",
     "text": [
      "best_model_data.csv\tmasked_emails.csv\tpoi_masked_emails.csv\n",
      "convictions.csv\t\tmodel_runs\t\tprompts\n",
      "enron_emails.parquet\tnltk_data\t\ttest_set.csv\n",
      "exec_emails.csv\t\tnorm_emails.csv\t\ttoken_coeffs.csv\n",
      "exec_masked_emails.csv\tnorm_masked_emails.csv\ttrain_set.csv\n",
      "experiment_data.csv\tperson_info.yaml\tvalid_set.csv\n",
      "from_david\t\tpoi_emails.csv\n"
     ]
    }
   ],
   "source": [
    "! ls ../../data"
   ]
  },
  {
   "cell_type": "code",
   "execution_count": 11,
   "id": "40f0ccc7-718b-44d2-91a1-b84842407825",
   "metadata": {},
   "outputs": [],
   "source": [
    "best_model_data = pd.read_csv('../../data/best_model_data.csv')"
   ]
  },
  {
   "cell_type": "code",
   "execution_count": 12,
   "id": "8077f9c8-ad1b-4cda-84d6-fbd41b55b42e",
   "metadata": {},
   "outputs": [
    {
     "data": {
      "text/html": [
       "<div>\n",
       "<style scoped>\n",
       "    .dataframe tbody tr th:only-of-type {\n",
       "        vertical-align: middle;\n",
       "    }\n",
       "\n",
       "    .dataframe tbody tr th {\n",
       "        vertical-align: top;\n",
       "    }\n",
       "\n",
       "    .dataframe thead th {\n",
       "        text-align: right;\n",
       "    }\n",
       "</style>\n",
       "<table border=\"1\" class=\"dataframe\">\n",
       "  <thead>\n",
       "    <tr style=\"text-align: right;\">\n",
       "      <th></th>\n",
       "      <th>model_path</th>\n",
       "      <th>preprocessor</th>\n",
       "      <th>model_type</th>\n",
       "      <th>hyperparam</th>\n",
       "      <th>val_precision</th>\n",
       "      <th>val_recall</th>\n",
       "      <th>val_f1_score</th>\n",
       "      <th>val_acc</th>\n",
       "      <th>test_precision</th>\n",
       "      <th>test_recall</th>\n",
       "      <th>test_f1_score</th>\n",
       "      <th>test_acc</th>\n",
       "    </tr>\n",
       "  </thead>\n",
       "  <tbody>\n",
       "    <tr>\n",
       "      <th>0</th>\n",
       "      <td>data/model_runs/f1=0.8051-p=lemmatize+unigram-...</td>\n",
       "      <td>lemmatize+unigram</td>\n",
       "      <td>logistic</td>\n",
       "      <td>10.0</td>\n",
       "      <td>0.804514</td>\n",
       "      <td>0.820745</td>\n",
       "      <td>0.805121</td>\n",
       "      <td>0.820745</td>\n",
       "      <td>0.820423</td>\n",
       "      <td>0.833535</td>\n",
       "      <td>0.81696</td>\n",
       "      <td>0.833535</td>\n",
       "    </tr>\n",
       "  </tbody>\n",
       "</table>\n",
       "</div>"
      ],
      "text/plain": [
       "                                          model_path       preprocessor  \\\n",
       "0  data/model_runs/f1=0.8051-p=lemmatize+unigram-...  lemmatize+unigram   \n",
       "\n",
       "  model_type  hyperparam  val_precision  val_recall  val_f1_score   val_acc  \\\n",
       "0   logistic        10.0       0.804514    0.820745      0.805121  0.820745   \n",
       "\n",
       "   test_precision  test_recall  test_f1_score  test_acc  \n",
       "0        0.820423     0.833535        0.81696  0.833535  "
      ]
     },
     "execution_count": 12,
     "metadata": {},
     "output_type": "execute_result"
    }
   ],
   "source": [
    "best_model_data"
   ]
  }
 ],
 "metadata": {
  "kernelspec": {
   "display_name": "Python 3 (ipykernel)",
   "language": "python",
   "name": "python3"
  },
  "language_info": {
   "codemirror_mode": {
    "name": "ipython",
    "version": 3
   },
   "file_extension": ".py",
   "mimetype": "text/x-python",
   "name": "python",
   "nbconvert_exporter": "python",
   "pygments_lexer": "ipython3",
   "version": "3.10.11"
  }
 },
 "nbformat": 4,
 "nbformat_minor": 5
}
