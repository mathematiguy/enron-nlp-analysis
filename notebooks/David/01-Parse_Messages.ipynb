{
 "cells": [
  {
   "cell_type": "code",
   "execution_count": 1,
   "id": "cc872e2f-3651-4a0d-98e4-c0ec9970c2b6",
   "metadata": {},
   "outputs": [],
   "source": [
    "import numpy as np\n",
    "import pandas as pd\n",
    "\n",
    "import os\n",
    "import re\n",
    "import sys\n",
    "import pyprojroot\n",
    "\n",
    "proj_root = pyprojroot.find_root(pyprojroot.has_file(\".git\"))\n",
    "sys.path.append(os.path.join(proj_root, 'code'))\n",
    "\n",
    "from utils import parallel_apply"
   ]
  },
  {
   "cell_type": "code",
   "execution_count": 2,
   "id": "6710cb74-24e0-410b-ac02-4f403505d747",
   "metadata": {},
   "outputs": [],
   "source": [
    "# ! pip install pyprojroot\n",
    "# ! python -m nltk.downloader -d ../../data/nltk_data all\n",
    "\n",
    "import nltk\n",
    "nltk.data.path.append('../../data/nltk_data/')"
   ]
  },
  {
   "cell_type": "markdown",
   "id": "3b51e8b1-c39e-48e0-a537-ed1c8ed57480",
   "metadata": {},
   "source": [
    "Load the emails"
   ]
  },
  {
   "cell_type": "code",
   "execution_count": 3,
   "id": "01358022-6004-42c3-915a-7d9a8b2ba4bc",
   "metadata": {},
   "outputs": [],
   "source": [
    "df_emails_path = os.path.join(proj_root, \"data/enron_emails.parquet\")\n",
    "df_emails = pd.read_parquet(df_emails_path)"
   ]
  },
  {
   "cell_type": "markdown",
   "id": "e0e9d1dc-588c-4d15-a9e0-57a8c21c2dd5",
   "metadata": {},
   "source": [
    "Remove replies and forwarded emails"
   ]
  },
  {
   "cell_type": "code",
   "execution_count": 4,
   "id": "36225a97-96f3-4571-8764-c9bbd974545f",
   "metadata": {},
   "outputs": [],
   "source": [
    "re_emails = df_emails['Subject'].str.lower().str.contains(\"re:\")\n",
    "fw_emails_1 = df_emails['Subject'].str.lower().str.contains(\"fw:\")\n",
    "fw_emails_2 = df_emails['Subject'].str.lower().str.contains(\"fwd:\")\n",
    "fw_emails = (fw_emails_1 | fw_emails_2)"
   ]
  },
  {
   "cell_type": "code",
   "execution_count": 5,
   "id": "2a40fa0e-ae19-4f32-833e-2ec7ddc0312b",
   "metadata": {},
   "outputs": [],
   "source": [
    "# clip forwarded emails and replied emails\n",
    "# Remove some other random things, like Yahoo! and Blackberry signatures\n",
    "def trim_reply_emails(email):\n",
    "    x = re.search(\"[- ]*Original Message\", email)\n",
    "    if x is not None:\n",
    "        email = email[:x.start()].strip()\n",
    "    x = re.search(\"[- ]*Forwarded \", email)\n",
    "    if x is not None:\n",
    "        email = email[:x.start()].strip()\n",
    "    x = re.search(\"From:\\t\", email)\n",
    "    if x is not None:\n",
    "        email = email[:x.start()].strip()\n",
    "    x = re.search(\"To:\\t\", email)\n",
    "    if x is not None:\n",
    "        email = email[:x.start()].strip()\n",
    "    x = re.search(\"To: \", email)\n",
    "    if x is not None:\n",
    "        email = email[:x.start()].strip()\n",
    "    x = re.search(\"Do You Yahoo!?\", email)\n",
    "    if x is not None:\n",
    "        email = email[:x.start()].strip()\n",
    "    x = re.search(\"[- ]*Sent from my BlackBerry\", email)\n",
    "    if x is not None:\n",
    "        email = email[:x.start()].strip() \n",
    "    return email"
   ]
  },
  {
   "cell_type": "code",
   "execution_count": 6,
   "id": "3a9e2b51-fc09-4dab-a8fc-50250fa4e6cd",
   "metadata": {},
   "outputs": [
    {
     "data": {
      "text/plain": [
       "0          True\n",
       "1         False\n",
       "2         False\n",
       "3         False\n",
       "4         False\n",
       "          ...  \n",
       "517396    False\n",
       "517397    False\n",
       "517398    False\n",
       "517399    False\n",
       "517400    False\n",
       "Name: Subject, Length: 517401, dtype: bool"
      ]
     },
     "execution_count": 6,
     "metadata": {},
     "output_type": "execute_result"
    }
   ],
   "source": [
    "fw_emails"
   ]
  },
  {
   "cell_type": "code",
   "execution_count": 7,
   "id": "d80216fb-7f50-4d24-ab29-c9ad98ba94e9",
   "metadata": {},
   "outputs": [
    {
     "data": {
      "application/vnd.jupyter.widget-view+json": {
       "model_id": "23d6017d63ef4952a959a9ebb7ac0f5c",
       "version_major": 2,
       "version_minor": 0
      },
      "text/plain": [
       "Processing:   0%|          | 0/32 [00:00<?, ?it/s]"
      ]
     },
     "metadata": {},
     "output_type": "display_data"
    },
    {
     "name": "stdout",
     "output_type": "stream",
     "text": [
      "CPU times: user 882 ms, sys: 1.21 s, total: 2.09 s\n",
      "Wall time: 9.98 s\n"
     ]
    }
   ],
   "source": [
    "%%time\n",
    "\n",
    "# trim the emails and ignore the forwards\n",
    "good_emails = parallel_apply(df_emails[~fw_emails]['Content'], trim_reply_emails)\n",
    "\n",
    "# drop any null emails\n",
    "good_emails = good_emails[good_emails.str.len() > 0]"
   ]
  },
  {
   "cell_type": "code",
   "execution_count": 8,
   "id": "07b877a4-bc86-422c-987f-77483c955f8f",
   "metadata": {},
   "outputs": [
    {
     "data": {
      "text/plain": [
       "1         We'll be marketing power from their Kenansvill...\n",
       "2         Kay,\\nI have everything I need with the except...\n",
       "3         I gave Raimund his number and asked him to fol...\n",
       "4         \\nMany of you have asked whether you should co...\n",
       "5         I talked with Julie Smith right after lunch ab...\n",
       "                                ...                        \n",
       "517396    For West:\\nRisk(give these people access to al...\n",
       "517397                                            done.\\nPL\n",
       "517398                                            done.\\nPL\n",
       "517399    Add Steve South to the Trader list and remove ...\n",
       "517400    I forwarded this to Scott Palmer, he is the ne...\n",
       "Length: 445658, dtype: object"
      ]
     },
     "execution_count": 8,
     "metadata": {},
     "output_type": "execute_result"
    }
   ],
   "source": [
    "good_emails"
   ]
  },
  {
   "cell_type": "code",
   "execution_count": 9,
   "id": "30b4170e-88fa-4ac1-aeb8-b65e38a04da5",
   "metadata": {},
   "outputs": [],
   "source": [
    "df_emails = good_emails.rename(\"Email Trimmed\").to_frame().join(df_emails[[col for col in df_emails if col != 'Email']], how='left')"
   ]
  },
  {
   "cell_type": "markdown",
   "id": "b58273f1-0524-48fd-9cbd-74d24ec1d121",
   "metadata": {},
   "source": [
    "Get the emails SENT by the POIs and Execs\n",
    "\n",
    "Note that emails in someone's mailbox aren't good enough because they contain emails from other people and not necessarily emails sent by someone"
   ]
  },
  {
   "cell_type": "code",
   "execution_count": 10,
   "id": "ab4ce023-0e0e-4be7-a8f8-ebce2b7c7cdf",
   "metadata": {},
   "outputs": [],
   "source": [
    "def find_possible_email_addresses(df_emails, name):\n",
    "    return df_emails[df_emails['From'].str.contains(name.lower())]['From'].unique()"
   ]
  },
  {
   "cell_type": "code",
   "execution_count": 11,
   "id": "b54bf1c3-687d-48e6-a155-8dbac1efbb27",
   "metadata": {},
   "outputs": [],
   "source": [
    "poi_names = [\n",
    "    'Lay',\n",
    "    'Skilling',\n",
    "    'Delainey',\n",
    "    'Forney'\n",
    "]\n",
    "\n",
    "# exec people (salary over $200,000), from the fraud dataset we found\n",
    "exec_names = [\n",
    "    'Allen', \n",
    "    'Beck', \n",
    "    'Buy', \n",
    "    'Delainey', \n",
    "    'Derrick', \n",
    "    'Haedicke', \n",
    "    'Kaminski', \n",
    "    'Kean', \n",
    "    'Kitchen', \n",
    "    'Lavorato', \n",
    "    'Lay', \n",
    "    'Martin',\n",
    "    'Mcconnell', \n",
    "    'Shankman', \n",
    "    'Shapiro', \n",
    "    'Skilling', \n",
    "    'Taylor', \n",
    "    'Whalley', \n",
    "    'White'\n",
    "]\n",
    "\n",
    "# exec people (salary over $300,000), from the fraud dataset we found\n",
    "exec_300_names = [\n",
    "    'Buy',  \n",
    "    'Derrick', \n",
    "    'Haedicke', \n",
    "    'Kean', \n",
    "    'Lavorato', \n",
    "    'Martin',\n",
    "    'Mcconnell', \n",
    "    'Shankman', \n",
    "    'Whalley', \n",
    "    'White'\n",
    "]"
   ]
  },
  {
   "cell_type": "markdown",
   "id": "2af912d1-9094-4afb-b094-2507ac85c038",
   "metadata": {},
   "source": [
    "POI email addresses"
   ]
  },
  {
   "cell_type": "code",
   "execution_count": 12,
   "id": "637bfd78-2fc6-4d4c-a62e-5da93209d818",
   "metadata": {},
   "outputs": [],
   "source": [
    "# note that forney and delainey's middle initials are M and W. I'm pretty sure those emails correspond to them.\n",
    "lay_addrs = ['kenneth.lay@enron.com', \n",
    "    'ken.lay@enron.com', \n",
    "    'ken.lay-@enron.com', \n",
    "    'ken.lay-.chairman.of.the.board@enron.com'\n",
    "]\n",
    "\n",
    "skill_addrs = ['jeff.skilling@enron.com', \n",
    "    'skilling@enron.com', \n",
    "    'jeffreyskilling@yahoo.com'\n",
    "]\n",
    "\n",
    "delain_addrs = ['david.delainey@enron.com', \n",
    "    'w..delainey@enron.com', \n",
    "    'delainey@enron.com', \n",
    "    'dave.delainey@enron.com'\n",
    "]\n",
    "\n",
    "forn_addrs = ['john.forney@enron.com', \n",
    "    'm..forney@enron.com', \n",
    "    'forney@enron.com'\n",
    "]\n",
    "\n",
    "poi_addrs = lay_addrs + skill_addrs + delain_addrs + forn_addrs"
   ]
  },
  {
   "cell_type": "markdown",
   "id": "37cfd903-e58c-4929-9f9a-192165a3d20d",
   "metadata": {},
   "source": [
    "Exec email addresses"
   ]
  },
  {
   "cell_type": "code",
   "execution_count": 13,
   "id": "b945183d-aeee-433d-9b50-590fe7bf293d",
   "metadata": {},
   "outputs": [],
   "source": [
    "# 'ALLEN PHILLIP K'\n",
    "allen_addrs = [\n",
    "    'phillip.allen@enron.com', \n",
    "    'pallen70@hotmail.com',\n",
    "    'k..allen@enron.com',\n",
    "    'allen@enron.com'\n",
    "]\n",
    "\n",
    "# 'BECK SALLY W'\n",
    "beck_addrs = [\n",
    "    'sally.beck@enron.com',\n",
    "    'beck@enron.com',\n",
    "    'sbeck9@msn.com'\n",
    "]\n",
    "\n",
    "# 'BUY RICHARD B'\n",
    "buy_addrs = [\n",
    "    'rick.buy@enron.com',\n",
    "    'buy@enron.com'\n",
    "]\n",
    "\n",
    "# 'DERRICK JR. JAMES V'\n",
    "derrick_addrs = [ \n",
    "    'james.derrick@enron.com'\n",
    "]\n",
    "\n",
    "# 'HAEDICKE MARK E'\n",
    "haedicke_addrs = [\n",
    "    'mark.haedicke@enron.com',\n",
    "    'e..haedicke@enron.com',\n",
    "    'mark.e.haedicke@enron.com'\n",
    "]\n",
    "\n",
    "# 'KAMINSKI WINCENTY J'\n",
    "kaminski_addrs = [\n",
    "    'vince.kaminski@enron.com',\n",
    "    'j.kaminski@enron.com',\n",
    "    'vkaminski@aol.com',\n",
    "    'vkaminski@palm.net',\n",
    "    'j..kaminski@enron.com',\n",
    "    'vince.j.kaminski@enron.com',\n",
    "    'kaminski@enron.com'\n",
    "]\n",
    "\n",
    "# 'KEAN STEVEN J'\n",
    "kean_addrs = [\n",
    "    'j..kean@enron.com',\n",
    "    'steven.kean@enron.com'\n",
    "]\n",
    "\n",
    "# 'KITCHEN LOUISE'\n",
    "kitchen_addrs = [\n",
    "    'louise.kitchen@enron.com',\n",
    "    'kitchen@enron.com' \n",
    "]\n",
    "\n",
    "# 'LAVORATO JOHN J'\n",
    "lavorato_addrs = [\n",
    "    'john.lavorato@enron.com',\n",
    "    'lavorato@sympatico.ca',\n",
    "    'john.j.lavorato@enron.com',\n",
    "    'lavorato@enron.com'\n",
    "]\n",
    "\n",
    "# 'MARTIN AMANDA K'\n",
    "martin_addrs = [\n",
    "    'martin@enron.com'\n",
    "]\n",
    "\n",
    "# 'MCCONNELL MICHAEL S'\n",
    "mcconnell_addrs = [\n",
    "    'mike.mcconnell@enron.com'\n",
    "]\n",
    "\n",
    "# 'SHANKMAN JEFFREY A'\n",
    "shankman_addrs = [\n",
    "    'a..shankman@enron.com',\n",
    "    'jeffrey.shankman@enron.com',\n",
    "    'shankman@enron.com'\n",
    "]\n",
    "\n",
    "# 'SHAPIRO RICHARD S'\n",
    "shapiro_addrs = [\n",
    "    'richard.shapiro@enron.com',\n",
    "    'shapiro@haas.berkeley.edu',\n",
    "    'rickshapiro@hotmail.com',\n",
    "    'shapiro@enron.com'\n",
    "]\n",
    "\n",
    "# 'TAYLOR MITCHELL S'\n",
    "taylor_addrs = [\n",
    "    'mitchell.taylor@enron.com'\n",
    "]\n",
    "\n",
    "# 'WHALLEY LAWRENCE G'\n",
    "whalley_addrs = [\n",
    "    'whalley@enron.com'\n",
    "]\n",
    "\n",
    "# 'WHITE JR THOMAS E'\n",
    "white_addrs = []\n",
    "\n",
    "exec_200_addrs = allen_addrs + beck_addrs + buy_addrs + derrick_addrs + haedicke_addrs + kaminski_addrs + kean_addrs + kitchen_addrs + lavorato_addrs + martin_addrs + mcconnell_addrs + shankman_addrs + shapiro_addrs + taylor_addrs + whalley_addrs + white_addrs\n",
    "\n",
    "exec_300_addrs = buy_addrs + derrick_addrs + haedicke_addrs + kean_addrs + lavorato_addrs + martin_addrs + mcconnell_addrs + shankman_addrs + whalley_addrs + white_addrs\n",
    "\n",
    "poi_addrs_dict = {\n",
    "    \"Lay\": lay_addrs,\n",
    "    \"Skilling\": skill_addrs,\n",
    "    \"Delainey\": delain_addrs,\n",
    "    \"Forney\": forn_addrs\n",
    "}\n",
    "\n",
    "exec_addrs_dict = {\n",
    "    'Allen': allen_addrs, \n",
    "    'Beck': beck_addrs, \n",
    "    'Buy': buy_addrs, \n",
    "    'Derrick': derrick_addrs, \n",
    "    'Haedicke': haedicke_addrs, \n",
    "    'Kaminski': kaminski_addrs, \n",
    "    'Kean': kean_addrs, \n",
    "    'Kitchen': kitchen_addrs, \n",
    "    'Lavorato': lavorato_addrs, \n",
    "    'Martin': martin_addrs,\n",
    "    'Mcconnell': mcconnell_addrs,\n",
    "    'Shankman': shankman_addrs, \n",
    "    'Shapiro': shapiro_addrs, \n",
    "    'Taylor': taylor_addrs,\n",
    "}\n",
    "\n",
    "# all of Whalley's emails seem to be from someone named Liz Taylor\n",
    "# White has no emails"
   ]
  },
  {
   "cell_type": "markdown",
   "id": "2201530f-38f8-4383-bc8d-eb7d1e5bab8e",
   "metadata": {},
   "source": [
    "Add info to the DataFrame"
   ]
  },
  {
   "cell_type": "code",
   "execution_count": 14,
   "id": "dd00d859-6c94-4f6f-af1d-ee759add6d9b",
   "metadata": {},
   "outputs": [],
   "source": [
    "# Assign POI labels\n",
    "df_emails['POI'] = False\n",
    "df_emails.loc[df_emails['From'].isin(poi_addrs), 'POI'] = True\n",
    "\n",
    "# Assign Exec 200 labels\n",
    "df_emails['Exec 200'] = False\n",
    "df_emails.loc[df_emails['From'].isin(exec_200_addrs), 'Exec 200'] = True\n",
    "\n",
    "# Assign Exec 300 labels\n",
    "df_emails['Exec 300'] = False\n",
    "df_emails.loc[df_emails['From'].isin(exec_300_addrs), 'Exec 300'] = True"
   ]
  },
  {
   "cell_type": "code",
   "execution_count": 15,
   "id": "f0d2f3fb-83a7-4507-9b4b-67f95c85a574",
   "metadata": {},
   "outputs": [],
   "source": [
    "# Initialize the 'Sender' column with a string data type instead of NaN\n",
    "df_emails['Sender'] = pd.NA\n",
    "\n",
    "for name in poi_addrs_dict:\n",
    "    df_emails.loc[df_emails['From'].isin(poi_addrs_dict[name]), 'Sender'] = name\n",
    "    \n",
    "for name in exec_addrs_dict:\n",
    "    df_emails.loc[df_emails['From'].isin(exec_addrs_dict[name]), 'Sender'] = name"
   ]
  },
  {
   "cell_type": "code",
   "execution_count": 16,
   "id": "ae0cfdef-9def-4b81-b99b-458819615860",
   "metadata": {},
   "outputs": [],
   "source": [
    "# df_emails.to_csv(\"emails_checkpoint1.csv\", index_label='Original Index')"
   ]
  },
  {
   "cell_type": "code",
   "execution_count": 17,
   "id": "ed8b5650-08ff-4324-8cc7-3642506626cd",
   "metadata": {},
   "outputs": [],
   "source": [
    "# separate POI, Execs, and Normal people\n",
    "df_poi = df_emails[df_emails['POI']].copy()\n",
    "df_exec = df_emails[df_emails['Exec 200']].copy()\n",
    "df_norm = df_emails[(~df_emails['POI']) & (~df_emails['Exec 200'])].copy()"
   ]
  },
  {
   "cell_type": "code",
   "execution_count": 18,
   "id": "320826a8-cb08-4f5e-a5a9-dfee26bf779b",
   "metadata": {},
   "outputs": [],
   "source": [
    "# add sender information for the normal people\n",
    "def get_sender(e):\n",
    "    if '@enron.com' in e:\n",
    "        i = e.split(\"@\")[0]\n",
    "        if \".\" in i:\n",
    "            return i.split(\".\")[1].capitalize()\n",
    "    return np.nan\n",
    "\n",
    "df_norm['Sender'] = df_norm['From'].apply(lambda x: get_sender(x))"
   ]
  },
  {
   "cell_type": "code",
   "execution_count": 19,
   "id": "197eb1bb-9001-47c3-a289-7c5674f6f4df",
   "metadata": {},
   "outputs": [
    {
     "data": {
      "text/plain": [
       "844       I was wondering if you were there.  Hope the w...\n",
       "4760      I hope this is the last thing.  Here's the lat...\n",
       "4761       <<2RZ501!.DOC>>  <<2R6LRED.DOC>>  <<2RZ601!.D...\n",
       "4762      ATTORNEY-CLIENT PRIVILEGED - DO NOT PRODUCE\\n\\...\n",
       "4763      Hi again,\\n\\nI accidentally deleted the emails...\n",
       "                                ...                        \n",
       "515291                 What the hell are you talking about?\n",
       "515358    **********************************************...\n",
       "515982    FYI, it may be wise to run a few of your macro...\n",
       "516397    Where are these being transferred from?  I onl...\n",
       "516516              Here is the most current orig file.\\nPL\n",
       "Name: Email Trimmed, Length: 3380, dtype: object"
      ]
     },
     "execution_count": 19,
     "metadata": {},
     "output_type": "execute_result"
    }
   ],
   "source": [
    "df_poi['Email Trimmed'].drop_duplicates()"
   ]
  },
  {
   "cell_type": "code",
   "execution_count": 20,
   "id": "1430aaef-3244-4b88-91ba-586f8138344e",
   "metadata": {},
   "outputs": [],
   "source": [
    "import codecs\n",
    "\n",
    "def to_ascii(s):\n",
    "    return codecs.encode(s, 'ascii', 'ignore').decode() # returns a regular string\n",
    "\n",
    "# remove Rosalee Fleming emails; Lay's secretary \n",
    "def lay_processing(messages):\n",
    "    return messages[~messages.apply(lambda s: (\"Rosie\" in s) | (\"Rosalee\" in s))]\n",
    "\n",
    "# remove Sherri Sera, Joannie Williamson, SRS; Skilling's secretary \n",
    "def skilling_processing(messages):\n",
    "    return messages[~messages.apply(lambda s: (\"Sherri\" in s) | (\"Joannie\" in s)| (\"SRS\" in s))]"
   ]
  },
  {
   "cell_type": "code",
   "execution_count": 21,
   "id": "ff5543a1-a102-4b5c-9aff-b73ddbf1db6b",
   "metadata": {},
   "outputs": [],
   "source": [
    "# convert to ascii\n",
    "df_poi['Email Trimmed'] = df_poi['Email Trimmed'].apply(lambda x: to_ascii(x))"
   ]
  },
  {
   "cell_type": "code",
   "execution_count": 22,
   "id": "dbde9345-d634-49c4-bfbb-27ffbc0bbea1",
   "metadata": {},
   "outputs": [],
   "source": [
    "# sample of non-exec, non-poi people\n",
    "norm_names = ['Mann',\n",
    " 'Davis',\n",
    " 'Dasovich',\n",
    " 'Shackleton',\n",
    " 'Germany',\n",
    " 'Jones',\n",
    " 'Symes',\n",
    " 'Bass',\n",
    " 'Lenhart',\n",
    " 'Perlingiere',\n",
    " 'Scott',\n",
    " 'ClairFossum',\n",
    " 'Nemec',\n",
    " 'Rogers'\n",
    "]"
   ]
  },
  {
   "cell_type": "code",
   "execution_count": 23,
   "id": "19a5d117-11cf-4a55-8849-1961d6bcd122",
   "metadata": {},
   "outputs": [
    {
     "name": "stdout",
     "output_type": "stream",
     "text": [
      "CPU times: user 1min 34s, sys: 56.9 ms, total: 1min 34s\n",
      "Wall time: 1min 34s\n"
     ]
    }
   ],
   "source": [
    "%%time\n",
    "from nltk.tokenize import word_tokenize, sent_tokenize\n",
    "\n",
    "df_n = []\n",
    "df = df_norm\n",
    "add_processing = {\n",
    "    \"Lay\": lay_processing,\n",
    "    \"Skilling\": skilling_processing,\n",
    "}         \n",
    "\n",
    "# for name in df['Sender'].unique():\n",
    "for name in norm_names:\n",
    "    if name in add_processing:\n",
    "        good_emails = add_processing[name](df.loc[df['Sender'] == name, 'Email Trimmed'])\n",
    "        df_n.append(good_emails)\n",
    "    else:\n",
    "        df_n.append(df.loc[df['Sender'] == name, 'Email Trimmed'])\n",
    "df_processed = pd.concat(df_n)\n",
    "        \n",
    "# drop emails less than 5 words long\n",
    "df_processed = df_processed[df_processed.apply(lambda x: len(word_tokenize(x)) >= 5)]"
   ]
  },
  {
   "cell_type": "code",
   "execution_count": 24,
   "id": "3ee47fac-f4a4-4a35-823f-d1cc02ca9e3e",
   "metadata": {},
   "outputs": [],
   "source": [
    "d = df_processed.to_frame().join(df[[col for col in df.columns if col != 'Email Trimmed']], how='left')\n",
    "\n",
    "d = d[['Email Trimmed', 'Sender', 'POI', 'Exec 200', 'Exec 300', 'Date']].drop_duplicates()\n",
    "\n",
    "d = d.rename(columns={\"Email Trimmed\": \"Email\"})\n",
    "\n",
    "d = d.sort_index()"
   ]
  },
  {
   "cell_type": "code",
   "execution_count": 25,
   "id": "cb6fa62d-8155-4f32-8128-c3792937b0b1",
   "metadata": {},
   "outputs": [],
   "source": [
    "# want to remove all emails sent before 1999 (only about 100 emails were sent before then)"
   ]
  },
  {
   "cell_type": "code",
   "execution_count": 26,
   "id": "6fc54f16-d613-4be3-8a38-97995c70d310",
   "metadata": {},
   "outputs": [
    {
     "data": {
      "text/plain": [
       "69948    1999-04-30 06:33:00\n",
       "60933    1999-04-30 06:33:00\n",
       "68069    1999-05-03 03:37:00\n",
       "72893    1999-05-03 03:37:00\n",
       "66113    1999-05-03 09:07:00\n",
       "                 ...        \n",
       "102234   2002-06-24 11:47:25\n",
       "102088   2002-06-24 15:33:08\n",
       "102519   2002-06-25 10:48:44\n",
       "102619   2002-06-25 11:04:28\n",
       "243864   2002-09-22 09:42:25\n",
       "Name: Datetime, Length: 82738, dtype: datetime64[ns]"
      ]
     },
     "execution_count": 26,
     "metadata": {},
     "output_type": "execute_result"
    }
   ],
   "source": [
    "import datetime\n",
    "d['Date'] = d['Date'].apply(lambda x: x.split(\"-\")[0])\n",
    "d['Datetime'] = pd.to_datetime(d['Date'])\n",
    "\n",
    "d = d[(d['Datetime'] > datetime.datetime(1998, 12, 31)) & (~d['Datetime'].isna())]\n",
    "\n",
    "d['Datetime'].sort_values()"
   ]
  },
  {
   "cell_type": "code",
   "execution_count": 27,
   "id": "1c764039-1503-426d-85d2-4f2d86b9b050",
   "metadata": {},
   "outputs": [],
   "source": [
    "d.to_csv(\n",
    "    \"normal_emails.csv\",\n",
    "    index_label='Original Index'\n",
    ")"
   ]
  }
 ],
 "metadata": {
  "kernelspec": {
   "display_name": "Python 3 (ipykernel)",
   "language": "python",
   "name": "python3"
  },
  "language_info": {
   "codemirror_mode": {
    "name": "ipython",
    "version": 3
   },
   "file_extension": ".py",
   "mimetype": "text/x-python",
   "name": "python",
   "nbconvert_exporter": "python",
   "pygments_lexer": "ipython3",
   "version": "3.10.11"
  }
 },
 "nbformat": 4,
 "nbformat_minor": 5
}
