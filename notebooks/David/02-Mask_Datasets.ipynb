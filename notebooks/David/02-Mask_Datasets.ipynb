{
 "cells": [
  {
   "cell_type": "code",
   "execution_count": 2,
   "id": "e283403f-4c7b-4fb0-94fa-93c03684d1d8",
   "metadata": {},
   "outputs": [],
   "source": [
    "import numpy as np\n",
    "import pandas as pd\n",
    "from tqdm.notebook import tqdm\n",
    "\n",
    "import re\n",
    "\n",
    "import spacy"
   ]
  },
  {
   "cell_type": "code",
   "execution_count": 3,
   "id": "bf637f8e-8ba5-45a1-88c2-f53d0a82e935",
   "metadata": {},
   "outputs": [],
   "source": [
    "# ! python -m spacy download en_core_web_sm"
   ]
  },
  {
   "cell_type": "code",
   "execution_count": 4,
   "id": "f8da1fd2-8a3c-4245-8766-d146ca29f51c",
   "metadata": {},
   "outputs": [],
   "source": [
    "nlp = spacy.load(\"en_core_web_sm\")\n",
    "\n",
    "#Create an EntityRuler for some of the names\n",
    "nameRuler = nlp.add_pipe(\"entity_ruler\")\n",
    "patterns = [\n",
    "    {\"label\": \"PERSON\", \"pattern\": [{\"lower\": 'delainey'}]},\n",
    "    {\"label\": \"PERSON\", \"pattern\": [{\"lower\": 'jmf'}]},\n",
    "    {\"label\": \"PERSON\", \"pattern\": [{\"lower\": 'dave'}]},\n",
    "    {\"label\": \"PERSON\", \"pattern\": [{\"lower\": 'forney'}]},\n",
    "    {\"label\": \"PERSON\", \"pattern\": [{\"lower\": 'lloyd'}]},\n",
    "    {\"label\": \"PERSON\", \"pattern\": [{\"lower\": 'phillip'}]},\n",
    "    {\"label\": \"PERSON\", \"pattern\": [{\"lower\": 'tj'}]},\n",
    "    {\"label\": \"ORG\", \"pattern\": [{\"lower\": 'ercot'}]},\n",
    "]\n",
    "nameRuler.add_patterns(patterns)"
   ]
  },
  {
   "cell_type": "code",
   "execution_count": 5,
   "id": "b0368f40-a387-4bd5-800b-c21a1a6e9e02",
   "metadata": {},
   "outputs": [],
   "source": [
    "ent_replacements = {\n",
    "    'PERSON': \"Steve\",\n",
    "    'ORG': \"Apple\",\n",
    "    'GPE': \"Cupertino\",\n",
    "}\n",
    "\n",
    "def change_ents(doc, ent_replacements):\n",
    "    # find all the ents\n",
    "    regex_ent_replacements = {key: \"\" for key in ent_replacements}\n",
    "    for ent in doc.ents:\n",
    "        if ent.label_ in ent_replacements:\n",
    "            text = re.sub(\"\\(.*|\\).*|\\+.*\", \"\", ent.text)\n",
    "            regex_ent_replacements[ent.label_] = f\"{regex_ent_replacements[ent.label_]}|{text}\"\n",
    "    regex_ent_replacements = {key: regex_ent_replacements[key][1:] for key in regex_ent_replacements}\n",
    "\n",
    "    # replace all the ends\n",
    "    new_text = doc.text\n",
    "    for ent_label in regex_ent_replacements:\n",
    "        if regex_ent_replacements[ent_label] != \"\":\n",
    "            try:\n",
    "                new_text = re.sub(regex_ent_replacements[ent_label], ent_replacements[ent_label], new_text)\n",
    "            except:\n",
    "                continue\n",
    "    new_text = re.sub(\"[ \\n\\t]+\", \" \", new_text)\n",
    "    \n",
    "    return new_text"
   ]
  },
  {
   "cell_type": "code",
   "execution_count": 9,
   "id": "4ae68268-53aa-43ae-b4a6-fa07bf062e99",
   "metadata": {},
   "outputs": [
    {
     "data": {
      "application/vnd.jupyter.widget-view+json": {
       "model_id": "170d3f0414f34bcc9b5f011084cb47d7",
       "version_major": 2,
       "version_minor": 0
      },
      "text/plain": [
       "  0%|          | 0/82738 [00:00<?, ?it/s]"
      ]
     },
     "metadata": {},
     "output_type": "display_data"
    },
    {
     "name": "stderr",
     "output_type": "stream",
     "text": [
      "/tmp/ipykernel_7432/3610080115.py:21: FutureWarning: Possible set difference at position 4832\n",
      "  new_text = re.sub(regex_ent_replacements[ent_label], ent_replacements[ent_label], new_text)\n",
      "/tmp/ipykernel_7432/3610080115.py:21: FutureWarning: Possible set difference at position 4832\n",
      "  new_text = re.sub(regex_ent_replacements[ent_label], ent_replacements[ent_label], new_text)\n",
      "/tmp/ipykernel_7432/3610080115.py:21: FutureWarning: Possible set difference at position 4832\n",
      "  new_text = re.sub(regex_ent_replacements[ent_label], ent_replacements[ent_label], new_text)\n"
     ]
    }
   ],
   "source": [
    "email_file = \"normal_emails.csv\"\n",
    "\n",
    "df = pd.read_csv(email_file, index_col='Original Index')\n",
    "# token_list = [token for token in doc if \" \" not in token.text]\n",
    "\n",
    "replaced_emails = [change_ents(doc, ent_replacements) for doc in nlp.pipe(tqdm(df['Email']))]\n",
    "\n",
    "df['Classify Email'] = replaced_emails\n",
    "\n",
    "df.to_csv(email_file)"
   ]
  },
  {
   "cell_type": "code",
   "execution_count": 10,
   "id": "59efc1b1-784b-441d-8266-ad54eef5b5a6",
   "metadata": {},
   "outputs": [
    {
     "data": {
      "application/vnd.jupyter.widget-view+json": {
       "model_id": "c31ac28bee944773a3be3c405e7787bd",
       "version_major": 2,
       "version_minor": 0
      },
      "text/plain": [
       "  0%|          | 0/18696 [00:00<?, ?it/s]"
      ]
     },
     "metadata": {},
     "output_type": "display_data"
    },
    {
     "name": "stderr",
     "output_type": "stream",
     "text": [
      "/tmp/ipykernel_12193/3610080115.py:21: FutureWarning: Possible set difference at position 4832\n",
      "  new_text = re.sub(regex_ent_replacements[ent_label], ent_replacements[ent_label], new_text)\n",
      "/tmp/ipykernel_12193/3610080115.py:21: FutureWarning: Possible nested set at position 179\n",
      "  new_text = re.sub(regex_ent_replacements[ent_label], ent_replacements[ent_label], new_text)\n"
     ]
    }
   ],
   "source": [
    "email_file = \"exec_emails.csv\"\n",
    "\n",
    "df = pd.read_csv(f\"../../data/{email_file}\", index_col='Original Index')\n",
    "# token_list = [token for token in doc if \" \" not in token.text]\n",
    "\n",
    "replaced_emails = [change_ents(doc, ent_replacements) for doc in nlp.pipe(tqdm(df['Email']))]\n",
    "\n",
    "df['Classify Email'] = replaced_emails\n",
    "\n",
    "df.to_csv(email_file)"
   ]
  },
  {
   "cell_type": "code",
   "execution_count": 11,
   "id": "0ac46771-c317-40d3-ae1f-10586a96e38a",
   "metadata": {},
   "outputs": [
    {
     "data": {
      "application/vnd.jupyter.widget-view+json": {
       "model_id": "ded6b84bb51c4456aef0847057a34dfa",
       "version_major": 2,
       "version_minor": 0
      },
      "text/plain": [
       "  0%|          | 0/2575 [00:00<?, ?it/s]"
      ]
     },
     "metadata": {},
     "output_type": "display_data"
    }
   ],
   "source": [
    "email_file = \"poi_emails.csv\"\n",
    "\n",
    "df = pd.read_csv(f\"../../data/{email_file}\", index_col='Original Index')\n",
    "# token_list = [token for token in doc if \" \" not in token.text]\n",
    "\n",
    "replaced_emails = [change_ents(doc, ent_replacements) for doc in nlp.pipe(tqdm(df['Email']))]\n",
    "\n",
    "df['Classify Email'] = replaced_emails\n",
    "\n",
    "df.to_csv(email_file)"
   ]
  },
  {
   "cell_type": "code",
   "execution_count": null,
   "id": "af6b3183-8b6b-4e14-8ff4-37006030688f",
   "metadata": {},
   "outputs": [],
   "source": [
    "replaced_emails = [change_ents(doc, ent_replacements) for doc in nlp.pipe(df['Email'])]"
   ]
  },
  {
   "cell_type": "code",
   "execution_count": null,
   "id": "fe3726ee-92fe-4ff5-9fee-e5e9d8dedafe",
   "metadata": {},
   "outputs": [],
   "source": [
    "df['Classify Email'] = replaced_emails"
   ]
  },
  {
   "cell_type": "code",
   "execution_count": null,
   "id": "aedbebbf-27c2-4e27-938b-476fca97340c",
   "metadata": {},
   "outputs": [],
   "source": [
    "df"
   ]
  },
  {
   "cell_type": "code",
   "execution_count": null,
   "id": "a66c3929-4730-4c45-bc60-0445d431dc1d",
   "metadata": {},
   "outputs": [],
   "source": [
    "# name = 'Skilling'\n",
    "# for i in df[df['Sender'] == name]['Classify Email'].sample(10):\n",
    "#     print(i)\n",
    "#     print()"
   ]
  },
  {
   "cell_type": "code",
   "execution_count": null,
   "id": "c162d5c7-05bc-4f9a-a8d1-45b08ef534d5",
   "metadata": {},
   "outputs": [],
   "source": [
    "df.to_csv(email_file)"
   ]
  },
  {
   "cell_type": "code",
   "execution_count": null,
   "id": "7af03e81-b95d-45b4-8090-89ab061e7b48",
   "metadata": {},
   "outputs": [],
   "source": []
  }
 ],
 "metadata": {
  "kernelspec": {
   "display_name": "Python 3 (ipykernel)",
   "language": "python",
   "name": "python3"
  },
  "language_info": {
   "codemirror_mode": {
    "name": "ipython",
    "version": 3
   },
   "file_extension": ".py",
   "mimetype": "text/x-python",
   "name": "python",
   "nbconvert_exporter": "python",
   "pygments_lexer": "ipython3",
   "version": "3.10.11"
  }
 },
 "nbformat": 4,
 "nbformat_minor": 5
}
