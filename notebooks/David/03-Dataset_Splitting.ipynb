{
 "cells": [
  {
   "cell_type": "markdown",
   "id": "dbb7d5bf-32d1-4797-8ded-efa5f333d375",
   "metadata": {},
   "source": [
    "## Dataset Splitting"
   ]
  },
  {
   "cell_type": "code",
   "execution_count": 5,
   "id": "2a5c9ff2-fd9b-4578-a326-28f0fd68ebcb",
   "metadata": {},
   "outputs": [],
   "source": [
    "import numpy as np\n",
    "import pandas as pd\n",
    "\n",
    "from sklearn.model_selection import train_test_split\n",
    "\n",
    "import os\n",
    "import re\n",
    "import sys\n",
    "import string\n",
    "import pyprojroot\n",
    "\n",
    "proj_root = pyprojroot.find_root(pyprojroot.has_file(\".git\"))\n",
    "sys.path.append(os.path.join(proj_root, 'code'))"
   ]
  },
  {
   "cell_type": "markdown",
   "id": "4cbdacef-5ab8-4009-8904-da67d57a9f2a",
   "metadata": {},
   "source": [
    "### 1) Split and prepare datasets"
   ]
  },
  {
   "cell_type": "code",
   "execution_count": null,
   "id": "15723f2a-f6ac-4d2d-92bf-ac9a4d3925da",
   "metadata": {},
   "outputs": [],
   "source": [
    "df_poi = pd.read_csv(\"poi_emails.csv\", index_col='Original Index')\n",
    "df_exec = pd.read_csv(\"exec_emails.csv\", index_col='Original Index')\n",
    "df_norm = pd.read_csv(\"normal_emails.csv\", index_col='Original Index')"
   ]
  },
  {
   "cell_type": "code",
   "execution_count": null,
   "id": "402cee22-1768-433a-ad3e-08f53202e4a9",
   "metadata": {},
   "outputs": [],
   "source": [
    "df_norm.POI.any()"
   ]
  },
  {
   "cell_type": "code",
   "execution_count": 2,
   "id": "94d7985b-2ec7-47b4-8fc0-53a3c442079f",
   "metadata": {},
   "outputs": [
    {
     "ename": "NameError",
     "evalue": "name 'df_exec' is not defined",
     "output_type": "error",
     "traceback": [
      "\u001b[0;31m---------------------------------------------------------------------------\u001b[0m",
      "\u001b[0;31mNameError\u001b[0m                                 Traceback (most recent call last)",
      "Cell \u001b[0;32mIn[2], line 17\u001b[0m\n\u001b[1;32m     15\u001b[0m num_exec_emails \u001b[38;5;241m=\u001b[39m \u001b[38;5;241m3000\u001b[39m\n\u001b[1;32m     16\u001b[0m num_norm_emails \u001b[38;5;241m=\u001b[39m \u001b[38;5;241m9000\u001b[39m\n\u001b[0;32m---> 17\u001b[0m df_exec_samples \u001b[38;5;241m=\u001b[39m get_email_samples(\u001b[43mdf_exec\u001b[49m, email_cap\u001b[38;5;241m=\u001b[39mnum_exec_emails, max_sample_size\u001b[38;5;241m=\u001b[39memail_sample_size)\n\u001b[1;32m     18\u001b[0m df_norms_samples \u001b[38;5;241m=\u001b[39m get_email_samples(df_norm, email_cap\u001b[38;5;241m=\u001b[39mnum_norm_emails, max_sample_size\u001b[38;5;241m=\u001b[39memail_sample_size)\n",
      "\u001b[0;31mNameError\u001b[0m: name 'df_exec' is not defined"
     ]
    }
   ],
   "source": [
    "def get_email_samples(df, email_cap=4000, max_sample_size=700):\n",
    "    df_senders_list = []\n",
    "    total_emails = 0\n",
    "    for sender in df['Sender'].unique():\n",
    "        df_tmp = df[df['Sender'] == sender]\n",
    "        sample_size = np.min([max_sample_size, df_tmp.shape[0]])\n",
    "        df_tmp = df_tmp.sample(sample_size)\n",
    "        df_senders_list.append(df_tmp)\n",
    "        total_emails += sample_size\n",
    "        if total_emails > email_cap:\n",
    "            break\n",
    "    return pd.concat(df_senders_list)\n",
    "\n",
    "email_sample_size = 700\n",
    "num_exec_emails = 3000\n",
    "num_norm_emails = 9000\n",
    "df_exec_samples = get_email_samples(df_exec, email_cap=num_exec_emails, max_sample_size=email_sample_size)\n",
    "df_norms_samples = get_email_samples(df_norm, email_cap=num_norm_emails, max_sample_size=email_sample_size)"
   ]
  },
  {
   "cell_type": "code",
   "execution_count": 379,
   "id": "74577202-e322-47ec-9f20-5cf6e7ae8386",
   "metadata": {},
   "outputs": [],
   "source": [
    "df = pd.concat([df_poi, df_exec_samples, df_norms_samples]).sort_index()"
   ]
  },
  {
   "cell_type": "code",
   "execution_count": 380,
   "id": "ba22bb7d-f0d7-43b9-89bd-d60621e0979a",
   "metadata": {},
   "outputs": [
    {
     "name": "stdout",
     "output_type": "stream",
     "text": [
      "Number of Emails = 13240\n",
      "Fraction of POI = 0.08376132930513595\n",
      "Fraction of Execs = 0.2289274924471299\n",
      "Fraction of POI = 0.6873111782477341\n"
     ]
    }
   ],
   "source": [
    "num_emails = df.shape[0]\n",
    "num_poi = df[df['POI']].shape[0]\n",
    "num_execs = df[(~df['POI']) & df['Exec 200']].shape[0]\n",
    "num_norms = df[(~df['POI']) & (~df['Exec 200'])].shape[0]\n",
    "\n",
    "print(f\"Number of Emails = {num_emails}\")\n",
    "print(f\"Fraction of POI = {num_poi/num_emails}\")\n",
    "print(f\"Fraction of Execs = {num_execs/num_emails}\")\n",
    "print(f\"Fraction of POI = {num_norms/num_emails}\")"
   ]
  },
  {
   "cell_type": "code",
   "execution_count": 381,
   "id": "a256a036-e79b-48bc-aaad-cd7439151583",
   "metadata": {},
   "outputs": [
    {
     "data": {
      "text/plain": [
       "Sender       POI    Exec 200\n",
       "Bass         False  False       700\n",
       "Dasovich     False  False       700\n",
       "Davis        False  False       700\n",
       "Germany      False  False       700\n",
       "Jones        False  False       700\n",
       "Lenhart      False  False       700\n",
       "Mann         False  False       700\n",
       "Nemec        False  False       700\n",
       "Perlingiere  False  False       700\n",
       "Rogers       False  False       700\n",
       "Scott        False  False       700\n",
       "Shackleton   False  False       700\n",
       "Symes        False  False       700\n",
       "Allen        False  True        614\n",
       "Kitchen      False  True        700\n",
       "Lavorato     False  True        700\n",
       "Shankman     False  True        700\n",
       "Shapiro      False  True        317\n",
       "Delainey     True   True        688\n",
       "Forney       True   True        392\n",
       "Lay          True   True         12\n",
       "Skilling     True   True         17\n",
       "Name: count, dtype: int64"
      ]
     },
     "execution_count": 381,
     "metadata": {},
     "output_type": "execute_result"
    }
   ],
   "source": [
    "# breakdown of senders\n",
    "df[['Sender', 'POI', 'Exec 200']].value_counts().sort_index(level=[\"POI\", \"Exec 200\"])"
   ]
  },
  {
   "cell_type": "code",
   "execution_count": 382,
   "id": "bfafb625-4815-4685-9449-157c11a98d5a",
   "metadata": {},
   "outputs": [],
   "source": [
    "valid_size = 1986\n",
    "test_size = 3310"
   ]
  },
  {
   "cell_type": "code",
   "execution_count": 383,
   "id": "6d0147fa-07f4-4c67-aed5-b4e0df7e8f40",
   "metadata": {},
   "outputs": [],
   "source": [
    "# get Datetime objects\n",
    "def date_standardizer(s):\n",
    "    s = s.strip()\n",
    "    m = re.search(\"[\\d]+\", s)\n",
    "    if (m.end() - m.start()) == 1:\n",
    "        return re.sub(f\" {m.group()} \", f\" 0{m.group()} \", s)\n",
    "    return s\n",
    "    \n",
    "df['Date'] = df['Date'].apply(lambda x: date_standardizer(x))\n",
    "df['Datetime'] = pd.to_datetime(df['Date'], format=\"%a, %d %b %Y %H:%M:%S\")"
   ]
  },
  {
   "cell_type": "code",
   "execution_count": 384,
   "id": "3724a67c-a703-4563-9e5d-3dbcbc9c8a90",
   "metadata": {
    "scrolled": true
   },
   "outputs": [
    {
     "data": {
      "text/html": [
       "<div>\n",
       "<style scoped>\n",
       "    .dataframe tbody tr th:only-of-type {\n",
       "        vertical-align: middle;\n",
       "    }\n",
       "\n",
       "    .dataframe tbody tr th {\n",
       "        vertical-align: top;\n",
       "    }\n",
       "\n",
       "    .dataframe thead th {\n",
       "        text-align: right;\n",
       "    }\n",
       "</style>\n",
       "<table border=\"1\" class=\"dataframe\">\n",
       "  <thead>\n",
       "    <tr style=\"text-align: right;\">\n",
       "      <th></th>\n",
       "      <th>Email</th>\n",
       "      <th>Sender</th>\n",
       "      <th>POI</th>\n",
       "      <th>Exec 200</th>\n",
       "      <th>Exec 300</th>\n",
       "      <th>Date</th>\n",
       "      <th>Classify Email</th>\n",
       "      <th>Datetime</th>\n",
       "    </tr>\n",
       "    <tr>\n",
       "      <th>Original Index</th>\n",
       "      <th></th>\n",
       "      <th></th>\n",
       "      <th></th>\n",
       "      <th></th>\n",
       "      <th></th>\n",
       "      <th></th>\n",
       "      <th></th>\n",
       "      <th></th>\n",
       "    </tr>\n",
       "  </thead>\n",
       "  <tbody>\n",
       "    <tr>\n",
       "      <th>2</th>\n",
       "      <td>test successful.  way to go!!!</td>\n",
       "      <td>Allen</td>\n",
       "      <td>False</td>\n",
       "      <td>True</td>\n",
       "      <td>False</td>\n",
       "      <td>Wed, 18 Oct 2000 03:00:00</td>\n",
       "      <td>test successful. way to go!!!</td>\n",
       "      <td>2000-10-18 03:00:00</td>\n",
       "    </tr>\n",
       "    <tr>\n",
       "      <th>3</th>\n",
       "      <td>Randy,  Can you send me a schedule of the sala...</td>\n",
       "      <td>Allen</td>\n",
       "      <td>False</td>\n",
       "      <td>True</td>\n",
       "      <td>False</td>\n",
       "      <td>Mon, 23 Oct 2000 06:13:00</td>\n",
       "      <td>Steve, Can you send me a schedule of the salar...</td>\n",
       "      <td>2000-10-23 06:13:00</td>\n",
       "    </tr>\n",
       "    <tr>\n",
       "      <th>4</th>\n",
       "      <td>Let's shoot for Tuesday at 11:45.</td>\n",
       "      <td>Allen</td>\n",
       "      <td>False</td>\n",
       "      <td>True</td>\n",
       "      <td>False</td>\n",
       "      <td>Thu, 31 Aug 2000 05:07:00</td>\n",
       "      <td>Let's shoot for Tuesday at 11:45.</td>\n",
       "      <td>2000-08-31 05:07:00</td>\n",
       "    </tr>\n",
       "    <tr>\n",
       "      <th>5</th>\n",
       "      <td>Greg,  How about either next Tuesday or Thursd...</td>\n",
       "      <td>Allen</td>\n",
       "      <td>False</td>\n",
       "      <td>True</td>\n",
       "      <td>False</td>\n",
       "      <td>Thu, 31 Aug 2000 04:17:00</td>\n",
       "      <td>Greg, How about either next Tuesday or Thursda...</td>\n",
       "      <td>2000-08-31 04:17:00</td>\n",
       "    </tr>\n",
       "    <tr>\n",
       "      <th>6</th>\n",
       "      <td>Please cc the following distribution list with...</td>\n",
       "      <td>Allen</td>\n",
       "      <td>False</td>\n",
       "      <td>True</td>\n",
       "      <td>False</td>\n",
       "      <td>Tue, 22 Aug 2000 07:44:00</td>\n",
       "      <td>Please cc the following distribution list with...</td>\n",
       "      <td>2000-08-22 07:44:00</td>\n",
       "    </tr>\n",
       "    <tr>\n",
       "      <th>...</th>\n",
       "      <td>...</td>\n",
       "      <td>...</td>\n",
       "      <td>...</td>\n",
       "      <td>...</td>\n",
       "      <td>...</td>\n",
       "      <td>...</td>\n",
       "      <td>...</td>\n",
       "      <td>...</td>\n",
       "    </tr>\n",
       "    <tr>\n",
       "      <th>516118</th>\n",
       "      <td>Hi Andy, I assume by now the gas to power opti...</td>\n",
       "      <td>Shankman</td>\n",
       "      <td>False</td>\n",
       "      <td>True</td>\n",
       "      <td>True</td>\n",
       "      <td>Thu, 07 Jun 2001 10:38:37</td>\n",
       "      <td>Hi Steve, I assume by now the gas to power opt...</td>\n",
       "      <td>2001-06-07 10:38:37</td>\n",
       "    </tr>\n",
       "    <tr>\n",
       "      <th>516194</th>\n",
       "      <td>HA HA HA YOU STUPID, ARROGANT FUCK ___________...</td>\n",
       "      <td>Skilling</td>\n",
       "      <td>True</td>\n",
       "      <td>True</td>\n",
       "      <td>True</td>\n",
       "      <td>Fri, 30 Nov 2001 15:34:35</td>\n",
       "      <td>HA HA HA YOU STUPID, ARROGANT FUCK ___________...</td>\n",
       "      <td>2001-11-30 15:34:35</td>\n",
       "    </tr>\n",
       "    <tr>\n",
       "      <th>516229</th>\n",
       "      <td>Fuck you, you piece of shit.  I can't wait to ...</td>\n",
       "      <td>Skilling</td>\n",
       "      <td>True</td>\n",
       "      <td>True</td>\n",
       "      <td>True</td>\n",
       "      <td>Wed, 21 Nov 2001 12:13:05</td>\n",
       "      <td>Fuck you, you piece of shit. I can't wait to s...</td>\n",
       "      <td>2001-11-21 12:13:05</td>\n",
       "    </tr>\n",
       "    <tr>\n",
       "      <th>516296</th>\n",
       "      <td>Well done on getting this far with ICE - uphil...</td>\n",
       "      <td>Kitchen</td>\n",
       "      <td>False</td>\n",
       "      <td>True</td>\n",
       "      <td>False</td>\n",
       "      <td>Tue, 05 Jun 2001 10:41:38</td>\n",
       "      <td>Well done on getting this far with ICE - uphil...</td>\n",
       "      <td>2001-06-05 10:41:38</td>\n",
       "    </tr>\n",
       "    <tr>\n",
       "      <th>516915</th>\n",
       "      <td>John: Jim Fallon's office called me today requ...</td>\n",
       "      <td>Scott</td>\n",
       "      <td>False</td>\n",
       "      <td>False</td>\n",
       "      <td>False</td>\n",
       "      <td>Fri, 01 Feb 2002 15:13:22</td>\n",
       "      <td>Steve: Steve office called me today requesting...</td>\n",
       "      <td>2002-02-01 15:13:22</td>\n",
       "    </tr>\n",
       "  </tbody>\n",
       "</table>\n",
       "<p>13240 rows × 8 columns</p>\n",
       "</div>"
      ],
      "text/plain": [
       "                                                            Email    Sender  \\\n",
       "Original Index                                                                \n",
       "2                                  test successful.  way to go!!!     Allen   \n",
       "3               Randy,  Can you send me a schedule of the sala...     Allen   \n",
       "4                               Let's shoot for Tuesday at 11:45.     Allen   \n",
       "5               Greg,  How about either next Tuesday or Thursd...     Allen   \n",
       "6               Please cc the following distribution list with...     Allen   \n",
       "...                                                           ...       ...   \n",
       "516118          Hi Andy, I assume by now the gas to power opti...  Shankman   \n",
       "516194          HA HA HA YOU STUPID, ARROGANT FUCK ___________...  Skilling   \n",
       "516229          Fuck you, you piece of shit.  I can't wait to ...  Skilling   \n",
       "516296          Well done on getting this far with ICE - uphil...   Kitchen   \n",
       "516915          John: Jim Fallon's office called me today requ...     Scott   \n",
       "\n",
       "                  POI  Exec 200  Exec 300                       Date  \\\n",
       "Original Index                                                         \n",
       "2               False      True     False  Wed, 18 Oct 2000 03:00:00   \n",
       "3               False      True     False  Mon, 23 Oct 2000 06:13:00   \n",
       "4               False      True     False  Thu, 31 Aug 2000 05:07:00   \n",
       "5               False      True     False  Thu, 31 Aug 2000 04:17:00   \n",
       "6               False      True     False  Tue, 22 Aug 2000 07:44:00   \n",
       "...               ...       ...       ...                        ...   \n",
       "516118          False      True      True  Thu, 07 Jun 2001 10:38:37   \n",
       "516194           True      True      True  Fri, 30 Nov 2001 15:34:35   \n",
       "516229           True      True      True  Wed, 21 Nov 2001 12:13:05   \n",
       "516296          False      True     False  Tue, 05 Jun 2001 10:41:38   \n",
       "516915          False     False     False  Fri, 01 Feb 2002 15:13:22   \n",
       "\n",
       "                                                   Classify Email  \\\n",
       "Original Index                                                      \n",
       "2                                   test successful. way to go!!!   \n",
       "3               Steve, Can you send me a schedule of the salar...   \n",
       "4                               Let's shoot for Tuesday at 11:45.   \n",
       "5               Greg, How about either next Tuesday or Thursda...   \n",
       "6               Please cc the following distribution list with...   \n",
       "...                                                           ...   \n",
       "516118          Hi Steve, I assume by now the gas to power opt...   \n",
       "516194          HA HA HA YOU STUPID, ARROGANT FUCK ___________...   \n",
       "516229          Fuck you, you piece of shit. I can't wait to s...   \n",
       "516296          Well done on getting this far with ICE - uphil...   \n",
       "516915          Steve: Steve office called me today requesting...   \n",
       "\n",
       "                          Datetime  \n",
       "Original Index                      \n",
       "2              2000-10-18 03:00:00  \n",
       "3              2000-10-23 06:13:00  \n",
       "4              2000-08-31 05:07:00  \n",
       "5              2000-08-31 04:17:00  \n",
       "6              2000-08-22 07:44:00  \n",
       "...                            ...  \n",
       "516118         2001-06-07 10:38:37  \n",
       "516194         2001-11-30 15:34:35  \n",
       "516229         2001-11-21 12:13:05  \n",
       "516296         2001-06-05 10:41:38  \n",
       "516915         2002-02-01 15:13:22  \n",
       "\n",
       "[13240 rows x 8 columns]"
      ]
     },
     "execution_count": 384,
     "metadata": {},
     "output_type": "execute_result"
    }
   ],
   "source": [
    "df"
   ]
  },
  {
   "cell_type": "code",
   "execution_count": 385,
   "id": "f4a45e14-0ced-474f-8727-c84f2d6625d5",
   "metadata": {},
   "outputs": [],
   "source": [
    "y_full = df['POI']\n",
    "X_full = df[[col for col in df.columns if col != 'POI']]"
   ]
  },
  {
   "cell_type": "code",
   "execution_count": 398,
   "id": "f0fad7bf-1bac-47e4-a765-3a67c7ab9bda",
   "metadata": {},
   "outputs": [],
   "source": [
    "X_train, X_test, y_train, y_test = train_test_split(X_full, y_full, test_size=test_size, stratify=y)"
   ]
  },
  {
   "cell_type": "code",
   "execution_count": 399,
   "id": "12b64b40-240f-405e-8d60-29709529df20",
   "metadata": {},
   "outputs": [],
   "source": [
    "X_train, X_valid, y_train, y_valid = train_test_split(X_train, y_train, test_size=valid_size, stratify=y_train)"
   ]
  },
  {
   "cell_type": "code",
   "execution_count": 400,
   "id": "f0fbc285-94cc-4f53-bdda-c1c87030841e",
   "metadata": {},
   "outputs": [
    {
     "name": "stdout",
     "output_type": "stream",
     "text": [
      "Training: 7944, Validation: 1986, Test: 3310\n"
     ]
    }
   ],
   "source": [
    "print(f\"Training: {X_train.shape[0]}, Validation: {X_valid.shape[0]}, Test: {X_test.shape[0]}\")"
   ]
  },
  {
   "cell_type": "code",
   "execution_count": 401,
   "id": "7eb5bb7a-585a-4a9c-9f2f-2d1b85ad5ee8",
   "metadata": {},
   "outputs": [
    {
     "data": {
      "text/plain": [
       "Sender       Exec 200\n",
       "Bass         False       176\n",
       "Dasovich     False       170\n",
       "Davis        False       162\n",
       "Germany      False       167\n",
       "Jones        False       175\n",
       "Lenhart      False       156\n",
       "Mann         False       170\n",
       "Nemec        False       167\n",
       "Perlingiere  False       174\n",
       "Rogers       False       192\n",
       "Scott        False       189\n",
       "Shackleton   False       176\n",
       "Symes        False       190\n",
       "Allen        True        150\n",
       "Delainey     True        172\n",
       "Forney       True         92\n",
       "Kitchen      True        180\n",
       "Lavorato     True        186\n",
       "Lay          True          4\n",
       "Shankman     True        177\n",
       "Shapiro      True         81\n",
       "Skilling     True          4\n",
       "Name: count, dtype: int64"
      ]
     },
     "execution_count": 401,
     "metadata": {},
     "output_type": "execute_result"
    }
   ],
   "source": [
    "X_test[['Sender', 'Exec 200']].value_counts().sort_index(level=[\"Exec 200\"])"
   ]
  },
  {
   "cell_type": "code",
   "execution_count": 402,
   "id": "c24975c9-697d-4fd0-90b5-1b9252e435ad",
   "metadata": {},
   "outputs": [
    {
     "data": {
      "text/plain": [
       "Sender       Exec 200\n",
       "Bass         False       100\n",
       "Dasovich     False       114\n",
       "Davis        False        95\n",
       "Germany      False       112\n",
       "Jones        False       102\n",
       "Lenhart      False       113\n",
       "Mann         False        90\n",
       "Nemec        False       124\n",
       "Perlingiere  False       106\n",
       "Rogers       False       106\n",
       "Scott        False        99\n",
       "Shackleton   False       105\n",
       "Symes        False       103\n",
       "Allen        True         97\n",
       "Delainey     True         96\n",
       "Forney       True         67\n",
       "Kitchen      True         91\n",
       "Lavorato     True        128\n",
       "Lay          True          1\n",
       "Shankman     True        101\n",
       "Shapiro      True         33\n",
       "Skilling     True          3\n",
       "Name: count, dtype: int64"
      ]
     },
     "execution_count": 402,
     "metadata": {},
     "output_type": "execute_result"
    }
   ],
   "source": [
    "X_valid[['Sender', 'Exec 200']].value_counts().sort_index(level=[\"Exec 200\"])"
   ]
  },
  {
   "cell_type": "code",
   "execution_count": 403,
   "id": "f875ddad-5b79-417c-8684-7d4618bd81e4",
   "metadata": {},
   "outputs": [
    {
     "data": {
      "text/plain": [
       "Sender       Exec 200\n",
       "Bass         False       424\n",
       "Dasovich     False       416\n",
       "Davis        False       443\n",
       "Germany      False       421\n",
       "Jones        False       423\n",
       "Lenhart      False       431\n",
       "Mann         False       440\n",
       "Nemec        False       409\n",
       "Perlingiere  False       420\n",
       "Rogers       False       402\n",
       "Scott        False       412\n",
       "Shackleton   False       419\n",
       "Symes        False       407\n",
       "Allen        True        367\n",
       "Delainey     True        420\n",
       "Forney       True        233\n",
       "Kitchen      True        429\n",
       "Lavorato     True        386\n",
       "Lay          True          7\n",
       "Shankman     True        422\n",
       "Shapiro      True        203\n",
       "Skilling     True         10\n",
       "Name: count, dtype: int64"
      ]
     },
     "execution_count": 403,
     "metadata": {},
     "output_type": "execute_result"
    }
   ],
   "source": [
    "X_train[['Sender', 'Exec 200']].value_counts().sort_index(level=[\"Exec 200\"])"
   ]
  },
  {
   "cell_type": "code",
   "execution_count": 404,
   "id": "d0cd5946-88ed-4090-a31d-d34783eed2ff",
   "metadata": {},
   "outputs": [],
   "source": [
    "X_train['POI'] = y_train\n",
    "X_valid['POI'] = y_valid\n",
    "X_test['POI'] = y_test"
   ]
  },
  {
   "cell_type": "code",
   "execution_count": 405,
   "id": "e37a1f26-5296-46d9-8a57-ec92553536fd",
   "metadata": {},
   "outputs": [],
   "source": [
    "X_train[[col for col in X_train.columns if col != 'Datetime']].to_csv(\"train_set.csv\")\n",
    "X_valid[[col for col in X_valid.columns if col != 'Datetime']].to_csv(\"valid_set.csv\")\n",
    "X_test[[col for col in X_test.columns if col != 'Datetime']].to_csv(\"test_set.csv\")"
   ]
  }
 ],
 "metadata": {
  "kernelspec": {
   "display_name": "Python 3 (ipykernel)",
   "language": "python",
   "name": "python3"
  },
  "language_info": {
   "codemirror_mode": {
    "name": "ipython",
    "version": 3
   },
   "file_extension": ".py",
   "mimetype": "text/x-python",
   "name": "python",
   "nbconvert_exporter": "python",
   "pygments_lexer": "ipython3",
   "version": "3.10.11"
  }
 },
 "nbformat": 4,
 "nbformat_minor": 5
}
