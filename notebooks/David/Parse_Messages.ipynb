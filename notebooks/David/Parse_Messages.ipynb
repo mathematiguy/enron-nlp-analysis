{
 "cells": [
  {
   "cell_type": "code",
   "execution_count": 2,
   "id": "b2c6ce5a-a626-4318-a7ad-0f0db10c9c4a",
   "metadata": {},
   "outputs": [],
   "source": [
    "import numpy as np\n",
    "import pandas as pd\n",
    "\n",
    "import re"
   ]
  },
  {
   "cell_type": "markdown",
   "id": "3b51e8b1-c39e-48e0-a537-ed1c8ed57480",
   "metadata": {},
   "source": [
    "Load the emails"
   ]
  },
  {
   "cell_type": "code",
   "execution_count": 2,
   "id": "01358022-6004-42c3-915a-7d9a8b2ba4bc",
   "metadata": {},
   "outputs": [],
   "source": [
    "df_emails_orig = pd.read_csv(\"../data/enron_emails.csv\")"
   ]
  },
  {
   "cell_type": "code",
   "execution_count": 3,
   "id": "a78ae2d7-3c6e-4697-b4e2-a93df9466dc2",
   "metadata": {},
   "outputs": [],
   "source": [
    "def split_preambles(messages):\n",
    "    preambles = []\n",
    "    for initial_message in messages:\n",
    "        initial_split = initial_message.split(\"\\n\\n\")\n",
    "        preamble = initial_split[0]\n",
    "        message = \" \".join(initial_split[1:])\n",
    "\n",
    "        preamble_split = preamble.split(\"\\n\")\n",
    "\n",
    "        preamble_dict = dict()\n",
    "        preamble_dict['Email'] = message.strip()\n",
    "        for field in preamble_split:\n",
    "            field_key_value = field.split(\": \", maxsplit=1)\n",
    "            try:\n",
    "                field_key = field_key_value[0]\n",
    "                field_value = field_key_value[1]\n",
    "                preamble_dict[field_key] = field_value\n",
    "                last_key = field_key\n",
    "            except(IndexError):\n",
    "                preamble_dict[last_key] = preamble_dict[last_key] + \" \" + field_key_value[0].strip()\n",
    "        preambles.append(preamble_dict)\n",
    "    return pd.DataFrame(preambles, index=messages.index)"
   ]
  },
  {
   "cell_type": "code",
   "execution_count": 4,
   "id": "4a5b0aa7-6546-4225-b14e-56c60f95cf4c",
   "metadata": {
    "tags": []
   },
   "outputs": [],
   "source": [
    "df_emails = split_preambles(df_emails_orig['message'])"
   ]
  },
  {
   "cell_type": "code",
   "execution_count": 5,
   "id": "2767362b-67d4-4163-9f9c-4dd6e45dc2a7",
   "metadata": {},
   "outputs": [
    {
     "data": {
      "text/plain": [
       "(517401, 128)"
      ]
     },
     "execution_count": 5,
     "metadata": {},
     "output_type": "execute_result"
    }
   ],
   "source": [
    "df_emails.shape"
   ]
  },
  {
   "cell_type": "markdown",
   "id": "bf80d75f-a384-435f-9d42-050028397be3",
   "metadata": {},
   "source": [
    "The parse function isn't perfect and creates too many columns (some of which are garbage), so only keep good columns"
   ]
  },
  {
   "cell_type": "code",
   "execution_count": 6,
   "id": "3199d0e7-992b-416f-8408-fbe749099dd8",
   "metadata": {},
   "outputs": [],
   "source": [
    "df_emails = df_emails[\n",
    "    ['Email',\n",
    "    'Message-ID',\n",
    "    'Date',\n",
    "    'From',\n",
    "    'To',\n",
    "    'Subject',\n",
    "    'Mime-Version',\n",
    "    'Content-Type',\n",
    "    'Content-Transfer-Encoding',\n",
    "    'X-From',\n",
    "    'X-To',\n",
    "    'X-cc',\n",
    "    'X-bcc',\n",
    "    'X-Folder',\n",
    "    'X-Origin',\n",
    "    'X-FileName',\n",
    "    'Cc',\n",
    "    'Bcc']\n",
    "]"
   ]
  },
  {
   "cell_type": "markdown",
   "id": "e0e9d1dc-588c-4d15-a9e0-57a8c21c2dd5",
   "metadata": {},
   "source": [
    "Remove replies and forwarded emails"
   ]
  },
  {
   "cell_type": "code",
   "execution_count": 7,
   "id": "36225a97-96f3-4571-8764-c9bbd974545f",
   "metadata": {},
   "outputs": [],
   "source": [
    "re_emails = df_emails['Subject'].str.lower().str.contains(\"re:\")\n",
    "\n",
    "fw_emails_1 = df_emails['Subject'].str.lower().str.contains(\"fw:\")\n",
    "fw_emails_2 = df_emails['Subject'].str.lower().str.contains(\"fwd:\")\n",
    "fw_emails = (fw_emails_1 | fw_emails_2)"
   ]
  },
  {
   "cell_type": "code",
   "execution_count": 8,
   "id": "2a40fa0e-ae19-4f32-833e-2ec7ddc0312b",
   "metadata": {},
   "outputs": [],
   "source": [
    "# clip forwarded emails and replied emails\n",
    "# Remove some other random things, like Yahoo! and Blackberry signatures\n",
    "def trim_reply_emails(email):\n",
    "    x = re.search(\"[- ]*Original Message\", email)\n",
    "    if x is not None:\n",
    "        email = email[:x.start()].strip()\n",
    "    x = re.search(\"[- ]*Forwarded \", email)\n",
    "    if x is not None:\n",
    "        email = email[:x.start()].strip()\n",
    "    x = re.search(\"From:\\t\", email)\n",
    "    if x is not None:\n",
    "        email = email[:x.start()].strip()\n",
    "    x = re.search(\"To:\\t\", email)\n",
    "    if x is not None:\n",
    "        email = email[:x.start()].strip()\n",
    "    x = re.search(\"To: \", email)\n",
    "    if x is not None:\n",
    "        email = email[:x.start()].strip()\n",
    "    x = re.search(\"Do You Yahoo!?\", email)\n",
    "    if x is not None:\n",
    "        email = email[:x.start()].strip()\n",
    "    x = re.search(\"[- ]*Sent from my BlackBerry\", email)\n",
    "    if x is not None:\n",
    "        email = email[:x.start()].strip() \n",
    "    return email"
   ]
  },
  {
   "cell_type": "code",
   "execution_count": 9,
   "id": "d80216fb-7f50-4d24-ab29-c9ad98ba94e9",
   "metadata": {},
   "outputs": [],
   "source": [
    "# trim the emails and ignore the forwards\n",
    "good_emails = df_emails[~fw_emails]['Email'].apply(trim_reply_emails)\n",
    "\n",
    "# drop any null emails\n",
    "good_emails = good_emails[~(good_emails == \"\")]"
   ]
  },
  {
   "cell_type": "code",
   "execution_count": 20,
   "id": "30b4170e-88fa-4ac1-aeb8-b65e38a04da5",
   "metadata": {},
   "outputs": [],
   "source": [
    "df_emails = good_emails.rename(\"Email Trimmed\").to_frame().join(df_emails[[col for col in df_emails if col != 'Email']], how='left')"
   ]
  },
  {
   "cell_type": "markdown",
   "id": "b58273f1-0524-48fd-9cbd-74d24ec1d121",
   "metadata": {},
   "source": [
    "Get the emails SENT by the POIs and Execs\n",
    "\n",
    "Note that emails in someone's mailbox aren't good enough because they contain emails from other people and not necessarily emails sent by someone"
   ]
  },
  {
   "cell_type": "code",
   "execution_count": 12,
   "id": "ab4ce023-0e0e-4be7-a8f8-ebce2b7c7cdf",
   "metadata": {},
   "outputs": [],
   "source": [
    "def find_possible_email_addresses(df_emails, name):\n",
    "    return df_emails[df_emails['From'].str.contains(name.lower())]['From'].unique()"
   ]
  },
  {
   "cell_type": "code",
   "execution_count": 13,
   "id": "e41f95e0-56da-4f5e-8059-79a2a0cd47bd",
   "metadata": {},
   "outputs": [],
   "source": [
    "poi_names = [\n",
    "    'Lay',\n",
    "    'Skilling',\n",
    "    'Delainey',\n",
    "    'Forney'\n",
    "]\n",
    "\n",
    "# exec people (salary over $200,000), from the fraud dataset we found\n",
    "exec_names = [\n",
    "    'Allen', \n",
    "    'Beck', \n",
    "    'Buy', \n",
    "    'Delainey', \n",
    "    'Derrick', \n",
    "    'Haedicke', \n",
    "    'Kaminski', \n",
    "    'Kean', \n",
    "    'Kitchen', \n",
    "    'Lavorato', \n",
    "    'Lay', \n",
    "    'Martin',\n",
    "    'Mcconnell', \n",
    "    'Shankman', \n",
    "    'Shapiro', \n",
    "    'Skilling', \n",
    "    'Taylor', \n",
    "    'Whalley', \n",
    "    'White'\n",
    "]\n",
    "\n",
    "# exec people (salary over $300,000), from the fraud dataset we found\n",
    "exec_300_names = [\n",
    "    'Buy',  \n",
    "    'Derrick', \n",
    "    'Haedicke', \n",
    "    'Kean', \n",
    "    'Lavorato', \n",
    "    'Martin',\n",
    "    'Mcconnell', \n",
    "    'Shankman', \n",
    "    'Whalley', \n",
    "    'White'\n",
    "]"
   ]
  },
  {
   "cell_type": "markdown",
   "id": "2371f83b-f07c-42e8-b070-c9f055fcac60",
   "metadata": {},
   "source": [
    "POI email addresses"
   ]
  },
  {
   "cell_type": "code",
   "execution_count": 14,
   "id": "ad772250-55d0-4d05-9bd1-d290dda95a24",
   "metadata": {},
   "outputs": [],
   "source": [
    "# note that forney and delainey's middle initials are M and W. I'm pretty sure those emails correspond to them.\n",
    "lay_addrs = ['kenneth.lay@enron.com', \n",
    "    'ken.lay@enron.com', \n",
    "    'ken.lay-@enron.com', \n",
    "    'ken.lay-.chairman.of.the.board@enron.com'\n",
    "]\n",
    "\n",
    "skill_addrs = ['jeff.skilling@enron.com', \n",
    "    'skilling@enron.com', \n",
    "    'jeffreyskilling@yahoo.com'\n",
    "]\n",
    "\n",
    "delain_addrs = ['david.delainey@enron.com', \n",
    "    'w..delainey@enron.com', \n",
    "    'delainey@enron.com', \n",
    "    'dave.delainey@enron.com'\n",
    "]\n",
    "\n",
    "forn_addrs = ['john.forney@enron.com', \n",
    "    'm..forney@enron.com', \n",
    "    'forney@enron.com'\n",
    "]\n",
    "\n",
    "poi_addrs = lay_addrs + skill_addrs + delain_addrs + forn_addrs"
   ]
  },
  {
   "cell_type": "markdown",
   "id": "2acdc86a-a625-4992-8227-22c0ad8685bb",
   "metadata": {},
   "source": [
    "Exec email addresses"
   ]
  },
  {
   "cell_type": "code",
   "execution_count": 15,
   "id": "5a92db64-b700-4387-99ca-aeb71ffd569a",
   "metadata": {},
   "outputs": [],
   "source": [
    "# 'ALLEN PHILLIP K'\n",
    "allen_addrs = [\n",
    "    'phillip.allen@enron.com', \n",
    "    'pallen70@hotmail.com',\n",
    "    'k..allen@enron.com',\n",
    "    'allen@enron.com'\n",
    "]\n",
    "\n",
    "# 'BECK SALLY W'\n",
    "beck_addrs = [\n",
    "    'sally.beck@enron.com',\n",
    "    'beck@enron.com',\n",
    "    'sbeck9@msn.com'\n",
    "]\n",
    "\n",
    "# 'BUY RICHARD B'\n",
    "buy_addrs = [\n",
    "    'rick.buy@enron.com',\n",
    "    'buy@enron.com'\n",
    "]\n",
    "\n",
    "# 'DERRICK JR. JAMES V'\n",
    "derrick_addrs = [ \n",
    "    'james.derrick@enron.com'\n",
    "]\n",
    "\n",
    "# 'HAEDICKE MARK E'\n",
    "haedicke_addrs = [\n",
    "    'mark.haedicke@enron.com',\n",
    "    'e..haedicke@enron.com',\n",
    "    'mark.e.haedicke@enron.com'\n",
    "]\n",
    "\n",
    "# 'KAMINSKI WINCENTY J'\n",
    "kaminski_addrs = [\n",
    "    'vince.kaminski@enron.com',\n",
    "    'j.kaminski@enron.com',\n",
    "    'vkaminski@aol.com',\n",
    "    'vkaminski@palm.net',\n",
    "    'j..kaminski@enron.com',\n",
    "    'vince.j.kaminski@enron.com',\n",
    "    'kaminski@enron.com'\n",
    "]\n",
    "\n",
    "# 'KEAN STEVEN J'\n",
    "kean_addrs = [\n",
    "    'j..kean@enron.com',\n",
    "    'steven.kean@enron.com'\n",
    "]\n",
    "\n",
    "# 'KITCHEN LOUISE'\n",
    "kitchen_addrs = [\n",
    "    'louise.kitchen@enron.com',\n",
    "    'kitchen@enron.com' \n",
    "]\n",
    "\n",
    "# 'LAVORATO JOHN J'\n",
    "lavorato_addrs = [\n",
    "    'john.lavorato@enron.com',\n",
    "    'lavorato@sympatico.ca',\n",
    "    'john.j.lavorato@enron.com',\n",
    "    'lavorato@enron.com'\n",
    "]\n",
    "\n",
    "# 'MARTIN AMANDA K'\n",
    "martin_addrs = [\n",
    "    'martin@enron.com'\n",
    "]\n",
    "\n",
    "# 'MCCONNELL MICHAEL S'\n",
    "mcconnell_addrs = [\n",
    "    'mike.mcconnell@enron.com'\n",
    "]\n",
    "\n",
    "# 'SHANKMAN JEFFREY A'\n",
    "shankman_addrs = [\n",
    "    'a..shankman@enron.com',\n",
    "    'jeffrey.shankman@enron.com',\n",
    "    'shankman@enron.com'\n",
    "]\n",
    "\n",
    "# 'SHAPIRO RICHARD S'\n",
    "shapiro_addrs = [\n",
    "    'richard.shapiro@enron.com',\n",
    "    'shapiro@haas.berkeley.edu',\n",
    "    'rickshapiro@hotmail.com',\n",
    "    'shapiro@enron.com'\n",
    "]\n",
    "\n",
    "# 'TAYLOR MITCHELL S'\n",
    "taylor_addrs = [\n",
    "    'mitchell.taylor@enron.com'\n",
    "]\n",
    "\n",
    "# 'WHALLEY LAWRENCE G'\n",
    "whalley_addrs = [\n",
    "    'whalley@enron.com'\n",
    "]\n",
    "\n",
    "# 'WHITE JR THOMAS E'\n",
    "white_addrs = []\n",
    "\n",
    "exec_200_addrs = allen_addrs + beck_addrs + buy_addrs + derrick_addrs + haedicke_addrs + kaminski_addrs + kean_addrs + kitchen_addrs + lavorato_addrs + martin_addrs + mcconnell_addrs + shankman_addrs + shapiro_addrs + taylor_addrs + whalley_addrs + white_addrs\n",
    "\n",
    "exec_300_addrs = buy_addrs + derrick_addrs + haedicke_addrs + kean_addrs + lavorato_addrs + martin_addrs + mcconnell_addrs + shankman_addrs + whalley_addrs + white_addrs"
   ]
  },
  {
   "cell_type": "code",
   "execution_count": 23,
   "id": "a2448521-b877-4023-b171-90661d906265",
   "metadata": {},
   "outputs": [],
   "source": [
    "poi_addrs_dict = {\n",
    "    \"Lay\": lay_addrs,\n",
    "    \"Skilling\": skill_addrs,\n",
    "    \"Delainey\": delain_addrs,\n",
    "    \"Forney\": forn_addrs\n",
    "}\n",
    "\n",
    "exec_addrs_dict = {\n",
    "    'Allen': allen_addrs, \n",
    "    'Beck': beck_addrs, \n",
    "    'Buy': buy_addrs, \n",
    "    'Derrick': derrick_addrs, \n",
    "    'Haedicke': haedicke_addrs, \n",
    "    'Kaminski': kaminski_addrs, \n",
    "    'Kean': kean_addrs, \n",
    "    'Kitchen': kitchen_addrs, \n",
    "    'Lavorato': lavorato_addrs, \n",
    "    'Martin': martin_addrs,\n",
    "    'Mcconnell': mcconnell_addrs,\n",
    "    'Shankman': shankman_addrs, \n",
    "    'Shapiro': shapiro_addrs, \n",
    "    'Taylor': taylor_addrs,\n",
    "}\n",
    "\n",
    "# all of Whalley's emails seem to be from someone named Liz Taylor\n",
    "# White has no emails"
   ]
  },
  {
   "cell_type": "markdown",
   "id": "2201530f-38f8-4383-bc8d-eb7d1e5bab8e",
   "metadata": {},
   "source": [
    "Add info to the DataFrame"
   ]
  },
  {
   "cell_type": "code",
   "execution_count": 41,
   "id": "dd00d859-6c94-4f6f-af1d-ee759add6d9b",
   "metadata": {},
   "outputs": [],
   "source": [
    "# Assign POI labels\n",
    "df_emails['POI'] = False\n",
    "df_emails.loc[df_emails['From'].isin(poi_addrs), 'POI'] = True\n",
    "\n",
    "# Assign Exec 200 labels\n",
    "df_emails['Exec 200'] = False\n",
    "df_emails.loc[df_emails['From'].isin(exec_200_addrs), 'Exec 200'] = True\n",
    "\n",
    "# Assign Exec 300 labels\n",
    "df_emails['Exec 300'] = False\n",
    "df_emails.loc[df_emails['From'].isin(exec_300_addrs), 'Exec 300'] = True"
   ]
  },
  {
   "cell_type": "code",
   "execution_count": 42,
   "id": "f0d2f3fb-83a7-4507-9b4b-67f95c85a574",
   "metadata": {},
   "outputs": [],
   "source": [
    "# add the Sender information to more easily identify the emails sent by that person\n",
    "df_emails.loc[df_emails.index, 'Sender'] = np.nan\n",
    "\n",
    "for name in poi_addrs_dict:\n",
    "    df_emails.loc[df_emails['From'].isin(poi_addrs_dict[name]), 'Sender'] = name\n",
    "    \n",
    "for name in exec_addrs_dict:\n",
    "    df_emails.loc[df_emails['From'].isin(exec_addrs_dict[name]), 'Sender'] = name"
   ]
  },
  {
   "cell_type": "code",
   "execution_count": 55,
   "id": "ae0cfdef-9def-4b81-b99b-458819615860",
   "metadata": {},
   "outputs": [],
   "source": [
    "# df_emails.to_csv(\"emails_checkpoint1.csv\", index_label='Original Index')"
   ]
  },
  {
   "cell_type": "code",
   "execution_count": 61,
   "id": "ed8b5650-08ff-4324-8cc7-3642506626cd",
   "metadata": {},
   "outputs": [],
   "source": [
    "# separate POI, Execs, and Normal people\n",
    "df_poi = df_emails[df_emails['POI']]\n",
    "df_exec = df_emails[df_emails['Exec 200']]\n",
    "df_norm = df_emails[(~df_emails['POI']) & (~df_emails['Exec 200'])]"
   ]
  },
  {
   "cell_type": "code",
   "execution_count": 74,
   "id": "320826a8-cb08-4f5e-a5a9-dfee26bf779b",
   "metadata": {},
   "outputs": [
    {
     "name": "stderr",
     "output_type": "stream",
     "text": [
      "/var/folders/ck/5ckvvdj16djdr7jjfqxvb51m0000gn/T/ipykernel_13559/4142140338.py:8: SettingWithCopyWarning: \n",
      "A value is trying to be set on a copy of a slice from a DataFrame.\n",
      "Try using .loc[row_indexer,col_indexer] = value instead\n",
      "\n",
      "See the caveats in the documentation: https://pandas.pydata.org/pandas-docs/stable/user_guide/indexing.html#returning-a-view-versus-a-copy\n",
      "  df_norm['Sender'] = df_norm['From'].apply(lambda x: get_sender(x))\n"
     ]
    }
   ],
   "source": [
    "# add sender information for the normal people\n",
    "def get_sender(e):\n",
    "    if '@enron.com' in e:\n",
    "        i = e.split(\"@\")[0]\n",
    "        if \".\" in i:\n",
    "            return i.split(\".\")[1].capitalize()\n",
    "    return np.nan\n",
    "\n",
    "df_norm['Sender'] = df_norm['From'].apply(lambda x: get_sender(x))"
   ]
  },
  {
   "cell_type": "code",
   "execution_count": 131,
   "id": "197eb1bb-9001-47c3-a289-7c5674f6f4df",
   "metadata": {},
   "outputs": [
    {
     "data": {
      "text/plain": [
       "18020     I have purchased from Duke   100 mw's at $51  ...\n",
       "19066     We have four direct lines to the Ercot ISO tha...\n",
       "19817     I have purchased from Duke   100 mw's at $51  ...\n",
       "21617     Guys, attached you will find a final cut on th...\n",
       "21729     Guys, attached you will find a preliminary age...\n",
       "                                ...                        \n",
       "499934    Kevin, given the track record of mis-behaviour...\n",
       "500742    fyi, on a different note, given legislative ap...\n",
       "516194    HA HA HA YOU STUPID, ARROGANT FUCK ___________...\n",
       "516196    cocksucker ___________________________________...\n",
       "516229    Fuck you, you piece of shit.  I can't wait to ...\n",
       "Name: Email Trimmed, Length: 1220, dtype: object"
      ]
     },
     "execution_count": 131,
     "metadata": {},
     "output_type": "execute_result"
    }
   ],
   "source": [
    "df_poi['Email Trimmed'].drop_duplicates()"
   ]
  },
  {
   "cell_type": "code",
   "execution_count": 133,
   "id": "1430aaef-3244-4b88-91ba-586f8138344e",
   "metadata": {},
   "outputs": [],
   "source": [
    "import codecs\n",
    "\n",
    "def to_ascii(s):\n",
    "    return codecs.encode(s, 'ascii', 'ignore').decode()      # returns a regular string\n",
    "\n",
    "# remove Rosalee Fleming emails; Lay's secretary \n",
    "def lay_processing(messages):\n",
    "    return messages[~messages.apply(lambda s: (\"Rosie\" in s) | (\"Rosalee\" in s))]\n",
    "\n",
    "# remove Sherri Sera, Joannie Williamson, SRS; Skilling's secretary \n",
    "def skilling_processing(messages):\n",
    "    return messages[~messages.apply(lambda s: (\"Sherri\" in s) | (\"Joannie\" in s)| (\"SRS\" in s))]"
   ]
  },
  {
   "cell_type": "code",
   "execution_count": 137,
   "id": "ff5543a1-a102-4b5c-9aff-b73ddbf1db6b",
   "metadata": {},
   "outputs": [
    {
     "name": "stderr",
     "output_type": "stream",
     "text": [
      "/var/folders/ck/5ckvvdj16djdr7jjfqxvb51m0000gn/T/ipykernel_13559/2930026525.py:2: SettingWithCopyWarning: \n",
      "A value is trying to be set on a copy of a slice from a DataFrame.\n",
      "Try using .loc[row_indexer,col_indexer] = value instead\n",
      "\n",
      "See the caveats in the documentation: https://pandas.pydata.org/pandas-docs/stable/user_guide/indexing.html#returning-a-view-versus-a-copy\n",
      "  df_poi['Email Trimmed'] = df_poi['Email Trimmed'].apply(lambda x: to_ascii(x))\n"
     ]
    }
   ],
   "source": [
    "# convert to ascii\n",
    "df_poi['Email Trimmed'] = df_poi['Email Trimmed'].apply(lambda x: to_ascii(x))"
   ]
  },
  {
   "cell_type": "code",
   "execution_count": 247,
   "id": "dbde9345-d634-49c4-bfbb-27ffbc0bbea1",
   "metadata": {},
   "outputs": [],
   "source": [
    "# sample of non-exec, non-poi people\n",
    "norm_names = ['Mann',\n",
    " 'Davis',\n",
    " 'Dasovich',\n",
    " 'Shackleton',\n",
    " 'Germany',\n",
    " 'Jones',\n",
    " 'Symes',\n",
    " 'Bass',\n",
    " 'Lenhart',\n",
    " 'Perlingiere',\n",
    " 'Scott',\n",
    " 'ClairFossum',\n",
    " 'Nemec',\n",
    " 'Rogers'\n",
    "]"
   ]
  },
  {
   "cell_type": "code",
   "execution_count": 248,
   "id": "19a5d117-11cf-4a55-8849-1961d6bcd122",
   "metadata": {},
   "outputs": [],
   "source": [
    "from nltk.tokenize import word_tokenize, sent_tokenize\n",
    "\n",
    "df_n = []\n",
    "df = df_norm\n",
    "add_processing = {\n",
    "    \"Lay\": lay_processing,\n",
    "    \"Skilling\": skilling_processing,\n",
    "}         \n",
    "\n",
    "# for name in df['Sender'].unique():\n",
    "for name in norm_names:\n",
    "    if name in add_processing:\n",
    "        good_emails = add_processing[name](df.loc[df['Sender'] == name, 'Email Trimmed'])\n",
    "        df_n.append(good_emails)\n",
    "    else:\n",
    "        df_n.append(df.loc[df['Sender'] == name, 'Email Trimmed'])\n",
    "df_processed = pd.concat(df_n)\n",
    "        \n",
    "# drop emails less than 5 words long\n",
    "df_processed = df_processed[df_processed.apply(lambda x: len(word_tokenize(x)) >= 5)]"
   ]
  },
  {
   "cell_type": "code",
   "execution_count": 249,
   "id": "06c31764-7758-4819-a4cb-ca33df7028c1",
   "metadata": {},
   "outputs": [],
   "source": [
    "d = df_processed.to_frame().join(df[[col for col in df.columns if col != 'Email Trimmed']], how='left')"
   ]
  },
  {
   "cell_type": "code",
   "execution_count": 250,
   "id": "0e87cf0f-f7fa-4489-a8de-e44ad4dc69b6",
   "metadata": {},
   "outputs": [],
   "source": [
    "d = d[['Email Trimmed', 'Sender', 'POI', 'Exec 200', 'Exec 300', 'Date']].drop_duplicates()"
   ]
  },
  {
   "cell_type": "code",
   "execution_count": 251,
   "id": "a11339df-c9ad-4515-ae53-31857673d590",
   "metadata": {},
   "outputs": [],
   "source": [
    "d = d.rename(columns={\"Email Trimmed\": \"Email\"})"
   ]
  },
  {
   "cell_type": "code",
   "execution_count": 256,
   "id": "2e059dcc-cbb3-43ef-82b2-3e356338383f",
   "metadata": {},
   "outputs": [],
   "source": [
    "d = d.sort_index()"
   ]
  },
  {
   "cell_type": "code",
   "execution_count": 257,
   "id": "8f68d613-9e5b-4101-b2b8-0930fdbaf416",
   "metadata": {},
   "outputs": [],
   "source": [
    "d.to_csv(\"normal_emails.csv\", index_label='Original Index')"
   ]
  },
  {
   "cell_type": "code",
   "execution_count": null,
   "id": "505f1348-187b-4042-8466-08efce5650f5",
   "metadata": {},
   "outputs": [],
   "source": []
  },
  {
   "cell_type": "code",
   "execution_count": null,
   "id": "cb6fa62d-8155-4f32-8128-c3792937b0b1",
   "metadata": {},
   "outputs": [],
   "source": [
    "# want to remove all emails sent before 1999 (only about 100 emails were sent before then)"
   ]
  },
  {
   "cell_type": "code",
   "execution_count": null,
   "id": "fdd491bf-4c0f-4cb2-b59c-5c89a659b871",
   "metadata": {},
   "outputs": [],
   "source": [
    "import datetime\n",
    "dk['Date'] = dk['Date'].apply(lambda x: x.split(\"-\")[0])\n",
    "dk['Datetime'] = pd.to_datetime(dk['Date'])"
   ]
  },
  {
   "cell_type": "code",
   "execution_count": 176,
   "id": "18864b1a-d803-4f09-b272-13e491e19a52",
   "metadata": {},
   "outputs": [],
   "source": [
    "df = df[(df['Datetime'] > datetime.datetime(1998, 12, 31)) & (~df['Datetime'].isna())]"
   ]
  },
  {
   "cell_type": "code",
   "execution_count": 178,
   "id": "af41a857-ceef-4852-b231-20576c5738ed",
   "metadata": {},
   "outputs": [
    {
     "data": {
      "text/plain": [
       "Original Index\n",
       "227687   1999-03-10 10:03:00\n",
       "151575   1999-05-11 13:10:00\n",
       "152107   1999-05-14 06:39:00\n",
       "152484   1999-05-14 07:01:00\n",
       "152595   1999-05-14 07:11:00\n",
       "                 ...        \n",
       "261792   2002-02-06 13:59:15\n",
       "260771   2002-02-06 14:47:02\n",
       "261259   2002-02-06 16:52:19\n",
       "261152   2002-02-06 16:53:04\n",
       "260876   2002-02-06 17:55:56\n",
       "Name: Datetime, Length: 11919, dtype: datetime64[ns]"
      ]
     },
     "execution_count": 178,
     "metadata": {},
     "output_type": "execute_result"
    }
   ],
   "source": [
    "df['Datetime'].sort_values()"
   ]
  },
  {
   "cell_type": "code",
   "execution_count": null,
   "id": "1c764039-1503-426d-85d2-4f2d86b9b050",
   "metadata": {},
   "outputs": [],
   "source": []
  }
 ],
 "metadata": {
  "kernelspec": {
   "display_name": "Python 3 (ipykernel)",
   "language": "python",
   "name": "python3"
  },
  "language_info": {
   "codemirror_mode": {
    "name": "ipython",
    "version": 3
   },
   "file_extension": ".py",
   "mimetype": "text/x-python",
   "name": "python",
   "nbconvert_exporter": "python",
   "pygments_lexer": "ipython3",
   "version": "3.10.13"
  }
 },
 "nbformat": 4,
 "nbformat_minor": 5
}
