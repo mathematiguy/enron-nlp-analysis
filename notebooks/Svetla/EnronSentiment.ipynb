{
 "cells": [
  {
   "cell_type": "code",
   "execution_count": 2,
   "id": "b2d29d0c-fad9-4558-a820-2a5a98cf9697",
   "metadata": {
    "tags": []
   },
   "outputs": [],
   "source": [
    "import numpy as np\n",
    "import pandas as pd\n",
    "import random\n",
    "from datetime import datetime as dt"
   ]
  },
  {
   "cell_type": "markdown",
   "id": "e4433a94-2864-4e93-8585-51a9898d0f37",
   "metadata": {},
   "source": [
    "**POI sentiment data for 2001**"
   ]
  },
  {
   "cell_type": "code",
   "execution_count": 3,
   "id": "737a1360-1e70-410e-aaed-632c60661aec",
   "metadata": {
    "tags": []
   },
   "outputs": [],
   "source": [
    "df_poi_sentiment = pd.read_csv(\"poi_emails_sentiment.csv\")"
   ]
  },
  {
   "cell_type": "code",
   "execution_count": 4,
   "id": "c012ed15-88bb-4666-ba2f-4198a21afa23",
   "metadata": {
    "tags": []
   },
   "outputs": [
    {
     "data": {
      "text/plain": [
       "array([2001, 2000, 2002])"
      ]
     },
     "execution_count": 4,
     "metadata": {},
     "output_type": "execute_result"
    }
   ],
   "source": [
    "## Convert sentiment to numbers\n",
    "sents = []\n",
    "for sentiment in df_poi_sentiment['Sentiment']: \n",
    "    if sentiment == 'POSITIVE': \n",
    "        sents += [1]\n",
    "    else:\n",
    "        sents += [0]\n",
    "df_poi_sentiment['Sentiment value'] = sents\n",
    "\n",
    "\n",
    "month = []\n",
    "for date_str in df_poi_sentiment.Datetime:\n",
    "    date_object = dt.strptime(date_str, '%Y-%m-%d %H:%M:%S').date()\n",
    "    month += [date_object.month]\n",
    "df_poi_sentiment['Month'] = month\n",
    "\n",
    "year = []\n",
    "for date_str in df_poi_sentiment.Datetime:\n",
    "    date_object = dt.strptime(date_str, '%Y-%m-%d %H:%M:%S').date()\n",
    "    year += [date_object.year]\n",
    "df_poi_sentiment['Year'] = year\n",
    "df_poi_sentiment['Year'].unique()\n"
   ]
  },
  {
   "cell_type": "code",
   "execution_count": 7,
   "id": "d3137470-b9eb-4228-a75c-695f4d6210e1",
   "metadata": {
    "tags": []
   },
   "outputs": [],
   "source": [
    "for year in df_poi_sentiment['Year']:\n",
    "    year_index = df_poi_sentiment.index[ (df_poi_sentiment['Year'] == 2001) ].tolist()\n",
    "df_poi_sentiment_2001 = df_poi_sentiment.loc[df_poi_sentiment.index[year_index]]\n",
    "df_poi_sentiment_2001 = df_poi_sentiment_2001.reset_index()\n"
   ]
  },
  {
   "cell_type": "code",
   "execution_count": 10,
   "id": "486bc33c-6494-40b6-be33-80b59152ec5a",
   "metadata": {
    "tags": []
   },
   "outputs": [
    {
     "data": {
      "text/plain": [
       "{1: [40, 14],\n",
       " 2: [51, 6],\n",
       " 3: [5, 1],\n",
       " 4: [6, 4],\n",
       " 5: [34, 11],\n",
       " 6: [35, 20],\n",
       " 7: [35, 10],\n",
       " 8: [46, 19],\n",
       " 9: [43, 32],\n",
       " 10: [35, 24],\n",
       " 11: [23, 20],\n",
       " 12: [19, 16]}"
      ]
     },
     "execution_count": 10,
     "metadata": {},
     "output_type": "execute_result"
    }
   ],
   "source": [
    "## Get the indices of messages month by month\n",
    "month_index = []\n",
    "for i in range(12): \n",
    "    month_i_index = []\n",
    "    month_i = i+1 #### COUNT STARTS AT 0!!!! Month 3 is 2+1\n",
    "    # get the indices of all rows for this month\n",
    "    for month in df_poi_sentiment_2001['Month']: \n",
    "        month_i_index = df_poi_sentiment_2001.index[(df_poi_sentiment_2001['Month'] == month_i)].tolist()               \n",
    "    month_index += [month_i_index]\n",
    "\n",
    "## There are 688 indices in month_index (distributed among 12 months)\n",
    "count = 0\n",
    "for list in month_index:\n",
    "    count += len(list)\n",
    "\n",
    "    \n",
    "sentiment_dict_2001 = {}    \n",
    "    \n",
    "## Extract the sentiment for each month\n",
    "current_month = 0 ## because I really just want a C-style for loop\n",
    "for index_list in month_index:\n",
    "    current_month += 1 ## We start at month 1, so increment right away\n",
    "    ## Make a mini dataframe for the given month\n",
    "    ## This contains all messages written by the given author in the given month\n",
    "    df_month_sentiment = df_poi_sentiment_2001.loc[ df_poi_sentiment_2001.index[index_list] ]\n",
    "    ## Count how many of them are positive by making an index list of postive ones\n",
    "    for sentiment in df_month_sentiment['Sentiment']: \n",
    "        positive_index = df_month_sentiment.index[(df_month_sentiment['Sentiment'] == 'POSITIVE')].tolist()               \n",
    "        negative_index = df_month_sentiment.index[(df_month_sentiment['Sentiment'] == 'NEGATIVE')].tolist()               \n",
    "        sentiment_dict_2001[current_month] = [len(positive_index), len(negative_index)]\n",
    "\n",
    "sentiment_dict_2001"
   ]
  },
  {
   "cell_type": "code",
   "execution_count": 11,
   "id": "08c2a5b2-831a-40a9-9714-13650a8dd5a3",
   "metadata": {
    "tags": []
   },
   "outputs": [
    {
     "data": {
      "text/plain": [
       "{1: 0.7407407407407407,\n",
       " 2: 0.8947368421052632,\n",
       " 3: 0.8333333333333334,\n",
       " 4: 0.6,\n",
       " 5: 0.7555555555555555,\n",
       " 6: 0.6363636363636364,\n",
       " 7: 0.7777777777777778,\n",
       " 8: 0.7076923076923077,\n",
       " 9: 0.5733333333333334,\n",
       " 10: 0.5932203389830508,\n",
       " 11: 0.5348837209302325,\n",
       " 12: 0.5428571428571428}"
      ]
     },
     "execution_count": 11,
     "metadata": {},
     "output_type": "execute_result"
    }
   ],
   "source": [
    "### The positivity ratio by month\n",
    "positive_ratio_dict_2001 = {}\n",
    "for month in sentiment_dict_2001:\n",
    "    positive = sentiment_dict_2001[month][0]\n",
    "    negative = sentiment_dict_2001[month][1]\n",
    "    total = positive + negative\n",
    "    positive_ratio_dict_2001[month] = positive/total\n",
    "    \n",
    "positive_ratio_dict_2001"
   ]
  },
  {
   "cell_type": "code",
   "execution_count": null,
   "id": "a8cfba15-e1d0-4dd8-941f-b139fd7779ff",
   "metadata": {},
   "outputs": [],
   "source": []
  },
  {
   "cell_type": "markdown",
   "id": "1de2232c-e807-4a0d-a317-98499849f7ef",
   "metadata": {
    "tags": []
   },
   "source": [
    "**The actual plot**"
   ]
  },
  {
   "cell_type": "code",
   "execution_count": 12,
   "id": "4c04c00e-fe3a-475f-8d21-a82be4111f7c",
   "metadata": {
    "tags": []
   },
   "outputs": [
    {
     "data": {
      "image/png": "[encoded data removed]",
      "text/plain": [
       "<Figure size 640x480 with 1 Axes>"
      ]
     },
     "metadata": {},
     "output_type": "display_data"
    }
   ],
   "source": [
    "### Plot the sentiment for 2001\n",
    "\n",
    "import matplotlib.pyplot as plt\n",
    "\n",
    "# grab the y-value from the dictionary\n",
    "x_values = []\n",
    "y_values = []\n",
    "for stuff in positive_ratio_dict_2001:\n",
    "    x_values += [stuff]\n",
    "    y_values += [ positive_ratio_dict_2001[stuff] ]\n",
    "    number_items = len(y_values)\n",
    "\n",
    "y = np.arange(number_items)\n",
    "plt.bar(y, height = y_values)\n",
    "plt.xticks(y, x_values)\n",
    "plt.xlabel(\"Month\")\n",
    "plt.ylabel(\"Positive sentiment proportion\")\n",
    "plt.title(\"Positive sentiment proportion in POI emails through 2001\")\n",
    "\n",
    "plt.savefig('positive_sentiment_poi_2001.png')"
   ]
  },
  {
   "cell_type": "code",
   "execution_count": null,
   "id": "500fcdc0-5815-4710-adca-46f7c80c662d",
   "metadata": {},
   "outputs": [],
   "source": []
  },
  {
   "cell_type": "markdown",
   "id": "d00cec78-5340-45f4-a6b5-30df1ed2ed94",
   "metadata": {},
   "source": [
    "**Exec sentiment data for 2001**"
   ]
  },
  {
   "cell_type": "code",
   "execution_count": null,
   "id": "dd860f98-022d-49cd-81c6-913e95cf54a3",
   "metadata": {},
   "outputs": [],
   "source": []
  },
  {
   "cell_type": "code",
   "execution_count": 14,
   "id": "ab15885a-c73d-42e8-9b6c-c6c6f581f17a",
   "metadata": {
    "tags": []
   },
   "outputs": [],
   "source": [
    "df_exec_sentiment = pd.read_csv(\"exec_selected_emails_sentiment.csv\")"
   ]
  },
  {
   "cell_type": "code",
   "execution_count": 15,
   "id": "6383a306-5fd5-41e7-8b66-74677707a4f3",
   "metadata": {
    "tags": []
   },
   "outputs": [
    {
     "data": {
      "text/plain": [
       "array([2000, 2001, 1999, 2002])"
      ]
     },
     "execution_count": 15,
     "metadata": {},
     "output_type": "execute_result"
    }
   ],
   "source": [
    "## Convert sentiment to numbers\n",
    "sents = []\n",
    "for sentiment in df_exec_sentiment['Sentiment']: \n",
    "    if sentiment == 'POSITIVE': \n",
    "        sents += [1]\n",
    "    else:\n",
    "        sents += [0]\n",
    "df_exec_sentiment['Sentiment value'] = sents\n",
    "\n",
    "\n",
    "month = []\n",
    "for date_str in df_exec_sentiment.Datetime:\n",
    "    date_object = dt.strptime(date_str, '%Y-%m-%d %H:%M:%S').date()\n",
    "    month += [date_object.month]\n",
    "df_exec_sentiment['Month'] = month\n",
    "\n",
    "year = []\n",
    "for date_str in df_exec_sentiment.Datetime:\n",
    "    date_object = dt.strptime(date_str, '%Y-%m-%d %H:%M:%S').date()\n",
    "    year += [date_object.year]\n",
    "df_exec_sentiment['Year'] = year\n",
    "df_exec_sentiment['Year'].unique()\n"
   ]
  },
  {
   "cell_type": "code",
   "execution_count": 16,
   "id": "ca52fffa-05a8-455e-b872-2d2802b8a52f",
   "metadata": {
    "tags": []
   },
   "outputs": [
    {
     "data": {
      "text/plain": [
       "{1: [91, 66],\n",
       " 2: [46, 36],\n",
       " 3: [41, 19],\n",
       " 4: [39, 19],\n",
       " 5: [59, 27],\n",
       " 6: [26, 14],\n",
       " 7: [28, 17],\n",
       " 8: [56, 19],\n",
       " 9: [54, 28],\n",
       " 10: [136, 96],\n",
       " 11: [106, 49],\n",
       " 12: [80, 48]}"
      ]
     },
     "execution_count": 16,
     "metadata": {},
     "output_type": "execute_result"
    }
   ],
   "source": [
    "## Get the indices of messages month by month\n",
    "month_index = []\n",
    "for i in range(12): \n",
    "    month_i_index = []\n",
    "    month_i = i+1 #### COUNT STARTS AT 0!!!! Month 3 is 2+1\n",
    "    # get the indices of all rows for this month\n",
    "    for month in df_exec_sentiment['Month']: \n",
    "        month_i_index = df_exec_sentiment.index[(df_exec_sentiment['Month'] == month_i)].tolist()               \n",
    "    month_index += [month_i_index]\n",
    "\n",
    "## There are 688 indices in month_index (distributed among 12 months)\n",
    "count = 0\n",
    "for list in month_index:\n",
    "    count += len(list)\n",
    "\n",
    "    \n",
    "sentiment_dict = {}    \n",
    "    \n",
    "## Extract the sentiment for each month\n",
    "current_month = 0 ## because I really just want a C-style for loop\n",
    "for index_list in month_index:\n",
    "    current_month += 1 ## We start at month 1, so increment right away\n",
    "    ## Make a mini dataframe for the given month\n",
    "    ## This contains all messages written by the given author in the given month\n",
    "    df_month_sentiment = df_exec_sentiment.loc[ df_exec_sentiment.index[index_list] ]\n",
    "    ## Count how many of them are positive by making an index list of postive ones\n",
    "    for sentiment in df_month_sentiment['Sentiment']: \n",
    "        positive_index = df_month_sentiment.index[(df_month_sentiment['Sentiment'] == 'POSITIVE')].tolist()               \n",
    "        negative_index = df_month_sentiment.index[(df_month_sentiment['Sentiment'] == 'NEGATIVE')].tolist()               \n",
    "        sentiment_dict[current_month] = [len(positive_index), len(negative_index)]\n",
    "\n",
    "sentiment_dict"
   ]
  },
  {
   "cell_type": "code",
   "execution_count": 17,
   "id": "f33f81fd-f70a-4656-89c2-fc52829cbf93",
   "metadata": {
    "tags": []
   },
   "outputs": [
    {
     "data": {
      "text/plain": [
       "{1: 0.5796178343949044,\n",
       " 2: 0.5609756097560976,\n",
       " 3: 0.6833333333333333,\n",
       " 4: 0.6724137931034483,\n",
       " 5: 0.686046511627907,\n",
       " 6: 0.65,\n",
       " 7: 0.6222222222222222,\n",
       " 8: 0.7466666666666667,\n",
       " 9: 0.6585365853658537,\n",
       " 10: 0.5862068965517241,\n",
       " 11: 0.6838709677419355,\n",
       " 12: 0.625}"
      ]
     },
     "execution_count": 17,
     "metadata": {},
     "output_type": "execute_result"
    }
   ],
   "source": [
    "### The positivity ratio by month\n",
    "positive_ratio_dict = {}\n",
    "for month in sentiment_dict:\n",
    "    positive = sentiment_dict[month][0]\n",
    "    negative = sentiment_dict[month][1]\n",
    "    total = positive + negative\n",
    "    positive_ratio_dict[month] = positive/total\n",
    "    \n",
    "positive_ratio_dict"
   ]
  },
  {
   "cell_type": "code",
   "execution_count": 18,
   "id": "825f6b1d-d460-4969-9468-d91418ef2485",
   "metadata": {
    "tags": []
   },
   "outputs": [
    {
     "data": {
      "image/png": "[encoded data removed]",
      "text/plain": [
       "<Figure size 640x480 with 1 Axes>"
      ]
     },
     "metadata": {},
     "output_type": "display_data"
    }
   ],
   "source": [
    "### Plot the sentiment for execs, 2001\n",
    "\n",
    "import matplotlib.pyplot as plt\n",
    "\n",
    "# grab the y-value from the dictionary\n",
    "x_values = []\n",
    "y_values = []\n",
    "for stuff in positive_ratio_dict:\n",
    "    x_values += [stuff]\n",
    "    y_values += [ positive_ratio_dict[stuff] ]\n",
    "    number_items = len(y_values)\n",
    "\n",
    "y = np.arange(number_items)\n",
    "plt.bar(y, height = y_values)\n",
    "plt.xticks(y, x_values)\n",
    "plt.xlabel(\"Month\")\n",
    "plt.ylabel(\"Positive sentiment proportion\")\n",
    "plt.title(\"Positive sentiment proportion in selected exec emails through 2001\")\n",
    "\n",
    "plt.savefig('positive_sentiment_exec_2001.png')"
   ]
  },
  {
   "cell_type": "code",
   "execution_count": null,
   "id": "7a44ded6-fdac-4f66-b13c-1fa9e61d507f",
   "metadata": {},
   "outputs": [],
   "source": []
  },
  {
   "cell_type": "markdown",
   "id": "3505e9e9-39e9-4b94-a39d-f85224bdfd2a",
   "metadata": {},
   "source": [
    "**Normal sentiment data for 2001**"
   ]
  },
  {
   "cell_type": "code",
   "execution_count": null,
   "id": "7abe5064-76cb-4ce5-b307-7122be0e9f73",
   "metadata": {},
   "outputs": [],
   "source": []
  },
  {
   "cell_type": "code",
   "execution_count": 19,
   "id": "ba49f66d-e3dc-43bf-9569-1d4a513fb0a3",
   "metadata": {
    "tags": []
   },
   "outputs": [],
   "source": [
    "df_normal_sentiment = pd.read_csv(\"normal_selected_emails_sentiment.csv\")"
   ]
  },
  {
   "cell_type": "code",
   "execution_count": 20,
   "id": "60673097-4afa-420f-8005-fcc4bea41f5c",
   "metadata": {
    "tags": []
   },
   "outputs": [
    {
     "data": {
      "text/plain": [
       "array([2000, 2001, 1999, 2002])"
      ]
     },
     "execution_count": 20,
     "metadata": {},
     "output_type": "execute_result"
    }
   ],
   "source": [
    "## Convert sentiment to numbers\n",
    "sents = []\n",
    "for sentiment in df_normal_sentiment['Sentiment']: \n",
    "    if sentiment == 'POSITIVE': \n",
    "        sents += [1]\n",
    "    else:\n",
    "        sents += [0]\n",
    "df_normal_sentiment['Sentiment value'] = sents\n",
    "\n",
    "\n",
    "month = []\n",
    "for date_str in df_normal_sentiment.Datetime:\n",
    "    date_object = dt.strptime(date_str, '%Y-%m-%d %H:%M:%S').date()\n",
    "    month += [date_object.month]\n",
    "df_normal_sentiment['Month'] = month\n",
    "\n",
    "year = []\n",
    "for date_str in df_normal_sentiment.Datetime:\n",
    "    date_object = dt.strptime(date_str, '%Y-%m-%d %H:%M:%S').date()\n",
    "    year += [date_object.year]\n",
    "df_normal_sentiment['Year'] = year\n",
    "df_normal_sentiment['Year'].unique()\n"
   ]
  },
  {
   "cell_type": "code",
   "execution_count": 21,
   "id": "864a07bd-b261-410c-b36f-588272167834",
   "metadata": {
    "tags": []
   },
   "outputs": [
    {
     "data": {
      "text/plain": [
       "{1: [70, 39],\n",
       " 2: [52, 35],\n",
       " 3: [82, 35],\n",
       " 4: [83, 38],\n",
       " 5: [67, 43],\n",
       " 6: [44, 18],\n",
       " 7: [50, 25],\n",
       " 8: [67, 36],\n",
       " 9: [75, 49],\n",
       " 10: [93, 42],\n",
       " 11: [57, 26],\n",
       " 12: [47, 27]}"
      ]
     },
     "execution_count": 21,
     "metadata": {},
     "output_type": "execute_result"
    }
   ],
   "source": [
    "## Get the indices of messages month by month\n",
    "month_index = []\n",
    "for i in range(12): \n",
    "    month_i_index = []\n",
    "    month_i = i+1 #### COUNT STARTS AT 0!!!! Month 3 is 2+1\n",
    "    # get the indices of all rows for this month\n",
    "    for month in df_normal_sentiment['Month']: \n",
    "        month_i_index = df_normal_sentiment.index[(df_normal_sentiment['Month'] == month_i)].tolist()               \n",
    "    month_index += [month_i_index]\n",
    "\n",
    "## There are 688 indices in month_index (distributed among 12 months)\n",
    "count = 0\n",
    "for list in month_index:\n",
    "    count += len(list)\n",
    "\n",
    "    \n",
    "sentiment_dict = {}    \n",
    "    \n",
    "## Extract the sentiment for each month\n",
    "current_month = 0 ## because I really just want a C-style for loop\n",
    "for index_list in month_index:\n",
    "    current_month += 1 ## We start at month 1, so increment right away\n",
    "    ## Make a mini dataframe for the given month\n",
    "    ## This contains all messages written by the given author in the given month\n",
    "    df_month_sentiment = df_normal_sentiment.loc[ df_normal_sentiment.index[index_list] ]\n",
    "    ## Count how many of them are positive by making an index list of postive ones\n",
    "    for sentiment in df_month_sentiment['Sentiment']: \n",
    "        positive_index = df_month_sentiment.index[(df_month_sentiment['Sentiment'] == 'POSITIVE')].tolist()               \n",
    "        negative_index = df_month_sentiment.index[(df_month_sentiment['Sentiment'] == 'NEGATIVE')].tolist()               \n",
    "        sentiment_dict[current_month] = [len(positive_index), len(negative_index)]\n",
    "\n",
    "sentiment_dict"
   ]
  },
  {
   "cell_type": "code",
   "execution_count": 22,
   "id": "1155948a-6304-412e-9a52-dcc5b2a1516c",
   "metadata": {
    "tags": []
   },
   "outputs": [
    {
     "data": {
      "text/plain": [
       "{1: 0.6422018348623854,\n",
       " 2: 0.5977011494252874,\n",
       " 3: 0.7008547008547008,\n",
       " 4: 0.6859504132231405,\n",
       " 5: 0.6090909090909091,\n",
       " 6: 0.7096774193548387,\n",
       " 7: 0.6666666666666666,\n",
       " 8: 0.6504854368932039,\n",
       " 9: 0.6048387096774194,\n",
       " 10: 0.6888888888888889,\n",
       " 11: 0.6867469879518072,\n",
       " 12: 0.6351351351351351}"
      ]
     },
     "execution_count": 22,
     "metadata": {},
     "output_type": "execute_result"
    }
   ],
   "source": [
    "### The positivity ratio by month\n",
    "positive_ratio_dict = {}\n",
    "for month in sentiment_dict:\n",
    "    positive = sentiment_dict[month][0]\n",
    "    negative = sentiment_dict[month][1]\n",
    "    total = positive + negative\n",
    "    positive_ratio_dict[month] = positive/total\n",
    "    \n",
    "positive_ratio_dict"
   ]
  },
  {
   "cell_type": "code",
   "execution_count": 23,
   "id": "1af3e991-557c-4410-994a-4dd7db75d157",
   "metadata": {
    "tags": []
   },
   "outputs": [
    {
     "data": {
      "image/png": "[encoded data removed]",
      "text/plain": [
       "<Figure size 640x480 with 1 Axes>"
      ]
     },
     "metadata": {},
     "output_type": "display_data"
    }
   ],
   "source": [
    "### Plot the sentiment for normal, 2001\n",
    "\n",
    "import matplotlib.pyplot as plt\n",
    "\n",
    "# grab the y-value from the dictionary\n",
    "x_values = []\n",
    "y_values = []\n",
    "for stuff in positive_ratio_dict:\n",
    "    x_values += [stuff]\n",
    "    y_values += [ positive_ratio_dict[stuff] ]\n",
    "    number_items = len(y_values)\n",
    "\n",
    "y = np.arange(number_items)\n",
    "plt.bar(y, height = y_values)\n",
    "plt.xticks(y, x_values)\n",
    "plt.xlabel(\"Month\")\n",
    "plt.ylabel(\"Positive sentiment proportion\")\n",
    "plt.title(\"Positive sentiment proportion in selected normal emails through 2001\")\n",
    "\n",
    "plt.savefig('positive_sentiment_normal_2001.png')"
   ]
  },
  {
   "cell_type": "code",
   "execution_count": null,
   "id": "9250beb9-3cfb-48c8-ae1b-583e0ded196b",
   "metadata": {},
   "outputs": [],
   "source": []
  },
  {
   "cell_type": "code",
   "execution_count": null,
   "id": "eb1b9504-07ed-46e6-8dda-87930b4340e1",
   "metadata": {},
   "outputs": [],
   "source": []
  }
 ],
 "metadata": {
  "kernelspec": {
   "display_name": "Python 3 (ipykernel)",
   "language": "python",
   "name": "python3"
  },
  "language_info": {
   "codemirror_mode": {
    "name": "ipython",
    "version": 3
   },
   "file_extension": ".py",
   "mimetype": "text/x-python",
   "name": "python",
   "nbconvert_exporter": "python",
   "pygments_lexer": "ipython3",
   "version": "3.11.5"
  }
 },
 "nbformat": 4,
 "nbformat_minor": 5
}
